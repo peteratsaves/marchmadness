{
  "nbformat": 4,
  "nbformat_minor": 0,
  "metadata": {
    "colab": {
      "name": "PeterAtsaves_FinalProject.ipynb",
      "provenance": [],
      "collapsed_sections": []
    },
    "kernelspec": {
      "name": "python3",
      "display_name": "Python 3"
    },
    "language_info": {
      "name": "python"
    }
  },
  "cells": [
    {
      "cell_type": "markdown",
      "source": [
        "Peter Atsaves"
      ],
      "metadata": {
        "id": "eGHXVWOqCNnJ"
      }
    },
    {
      "cell_type": "markdown",
      "source": [
        "All data exploration and preprocessing was placed at the bottom."
      ],
      "metadata": {
        "id": "Z-j6-c5be8xB"
      }
    },
    {
      "cell_type": "code",
      "execution_count": 11,
      "metadata": {
        "colab": {
          "base_uri": "https://localhost:8080/"
        },
        "id": "LzFRV0I_sYvi",
        "outputId": "a1a46413-7ceb-44c9-92f1-b0d6143714ae"
      },
      "outputs": [
        {
          "output_type": "stream",
          "name": "stdout",
          "text": [
            "Mounted at /content/drive\n"
          ]
        }
      ],
      "source": [
        "from google.colab import drive\n",
        "drive.mount('/content/drive')"
      ]
    },
    {
      "cell_type": "code",
      "source": [
        "import pandas as pd\n",
        "Cities = pd.read_csv('/content/drive/MyDrive/data/mens-march-mania-2022/MDataFiles_Stage1/Cities.csv')\n",
        "Conferences = pd.read_csv('/content/drive/MyDrive/data/mens-march-mania-2022/MDataFiles_Stage1/Conferences.csv')\n",
        "MConferenceTourneyGames = pd.read_csv('/content/drive/MyDrive/data/mens-march-mania-2022/MDataFiles_Stage1/MConferenceTourneyGames.csv')\n",
        "MGameCities = pd.read_csv('/content/drive/MyDrive/data/mens-march-mania-2022/MDataFiles_Stage1/MGameCities.csv')\n",
        "MMasseyOrdinals = pd.read_csv('/content/drive/MyDrive/data/mens-march-mania-2022/MDataFiles_Stage1/MMasseyOrdinals.csv')\n",
        "MNCAATourneyCompactResults = pd.read_csv('/content/drive/MyDrive/data/mens-march-mania-2022/MDataFiles_Stage1/MNCAATourneyCompactResults.csv')\n",
        "MNCAATourneyDetailedResults = pd.read_csv('/content/drive/MyDrive/data/mens-march-mania-2022/MDataFiles_Stage1/MNCAATourneyDetailedResults.csv')\n",
        "MNCAASeedRoundSlots = pd.read_csv('/content/drive/MyDrive/data/mens-march-mania-2022/MDataFiles_Stage1/MNCAATourneySeedRoundSlots.csv')\n",
        "MNCAATourneySeeds = pd.read_csv('/content/drive/MyDrive/data/mens-march-mania-2022/MDataFiles_Stage1/MNCAATourneySeeds.csv')\n",
        "MNCAATourneySlots = pd.read_csv('/content/drive/MyDrive/data/mens-march-mania-2022/MDataFiles_Stage1/MNCAATourneySlots.csv')\n",
        "MRegularSeasonCompactResults = pd.read_csv('/content/drive/MyDrive/data/mens-march-mania-2022/MDataFiles_Stage1/MRegularSeasonCompactResults.csv')\n",
        "MRegularSeasonDetailedResults = pd.read_csv('/content/drive/MyDrive/data/mens-march-mania-2022/MDataFiles_Stage1/MRegularSeasonDetailedResults.csv')\n",
        "MSampleSubmissionStage1 = pd.read_csv('/content/drive/MyDrive/data/mens-march-mania-2022/MDataFiles_Stage1/MSampleSubmissionStage1.csv')\n",
        "MSeasons = pd.read_csv('/content/drive/MyDrive/data/mens-march-mania-2022/MDataFiles_Stage1/MSeasons.csv')\n",
        "MSecondaryTourneyCompactResults = pd.read_csv('/content/drive/MyDrive/data/mens-march-mania-2022/MDataFiles_Stage1/MSecondaryTourneyCompactResults.csv')\n",
        "MSecondaryTourneyTeams = pd.read_csv('/content/drive/MyDrive/data/mens-march-mania-2022/MDataFiles_Stage1/MSecondaryTourneyTeams.csv')\n",
        "MTeamCoaches = pd.read_csv('/content/drive/MyDrive/data/mens-march-mania-2022/MDataFiles_Stage1/MTeamCoaches.csv')\n",
        "MTeamConferences = pd.read_csv('/content/drive/MyDrive/data/mens-march-mania-2022/MDataFiles_Stage1/MTeamConferences.csv')\n",
        "MTeams = pd.read_csv('/content/drive/MyDrive/data/mens-march-mania-2022/MDataFiles_Stage1/MTeams.csv')\n",
        "MTeamSpellings = pd.read_csv('/content/drive/MyDrive/data/mens-march-mania-2022/MDataFiles_Stage1/MTeamSpellings.csv', encoding='cp1252')"
      ],
      "metadata": {
        "id": "z68FBKBDCI7n"
      },
      "execution_count": 12,
      "outputs": []
    },
    {
      "cell_type": "markdown",
      "source": [
        "Creating the dataframe and initial columns"
      ],
      "metadata": {
        "id": "WHS08bhtCdcG"
      }
    },
    {
      "cell_type": "code",
      "source": [
        "df = pd.DataFrame()\n",
        "df.insert(0, \"T1_ID\", (MNCAATourneyCompactResults['WTeamID']))\n",
        "df.insert(1, \"T2_ID\", (MNCAATourneyCompactResults['LTeamID']))\n",
        "df.insert(2, \"Season\", (MNCAATourneyCompactResults['Season']))\n",
        "df.insert(3, \"T1_Seed\", 0) #seed (1-16)\n",
        "df.insert(4, \"T2_Seed\", 0)\n",
        "df.insert(5, \"T1_PPG\", 0) #top 25 ranked teams beaten that year\n",
        "df.insert(6, \"T2_PPG\", 0)\n",
        "df.insert(7, \"T1_SeedWinPercent\", 0) #all time winning percentage for that seed\n",
        "df.insert(8, \"T2_SeedWinPercent\", 0)\n",
        "df.insert(9, \"T1_Rank\", 0) #last day of regular season ranking\n",
        "df.insert(10, \"T2_Rank\", 0)\n",
        "df.insert(11, \"T1_RSWinPercent\", 0) #number of wins at tournament year prior if any\n",
        "df.insert(12, \"T2_RSWinPercent\", 0)\n",
        "df.insert(13, \"T1_PointMargin\", 0) #average point margin from regular season\n",
        "df.insert(14, \"T2_PointMargin\", 0)\n",
        "df.insert(15, \"T1_SeedPercent\", 0) #seed win percentage of all time for team 1 seed vs team 2 seed\n",
        "df.insert(16, \"T2_SeedPercent\", 0)\n",
        "df.insert(len(df.columns), \"Winner\", (MNCAATourneyCompactResults['WTeamID']))"
      ],
      "metadata": {
        "id": "Dwaagb6nCXR3"
      },
      "execution_count": 13,
      "outputs": []
    },
    {
      "cell_type": "markdown",
      "source": [
        "Randomly choose roughly 50% of teams to switch spots (team 1 become team 2, and team 2 become team 1). Assign winner (1 or 2) to results."
      ],
      "metadata": {
        "id": "XXuqWC0zCsU3"
      }
    },
    {
      "cell_type": "code",
      "source": [
        "import random\n",
        "for i in range(0,len(df)):\n",
        "  randomNumber = random.randint(0,1)\n",
        "  if randomNumber == 1:\n",
        "    df['Winner'][i] = '2'\n",
        "    team1 = df['T1_ID'][i]\n",
        "    team2 = df['T2_ID'][i]\n",
        "    df['T1_ID'][i] = team2\n",
        "    df['T2_ID'][i] = team1\n",
        "  else:\n",
        "    df['Winner'][i] = '1'\n",
        "df.head()"
      ],
      "metadata": {
        "colab": {
          "base_uri": "https://localhost:8080/",
          "height": 270
        },
        "id": "O9TGASSqCsxO",
        "outputId": "75a3625c-eaad-4ed1-acc2-a3687f9bcb05"
      },
      "execution_count": 14,
      "outputs": [
        {
          "output_type": "execute_result",
          "data": {
            "text/plain": [
              "   T1_ID  T2_ID  Season  T1_Seed  T2_Seed  T1_PPG  T2_PPG  T1_SeedWinPercent  \\\n",
              "0   1234   1116    1985        0        0       0       0                  0   \n",
              "1   1120   1345    1985        0        0       0       0                  0   \n",
              "2   1250   1207    1985        0        0       0       0                  0   \n",
              "3   1425   1229    1985        0        0       0       0                  0   \n",
              "4   1325   1242    1985        0        0       0       0                  0   \n",
              "\n",
              "   T2_SeedWinPercent  T1_Rank  T2_Rank  T1_RSWinPercent  T2_RSWinPercent  \\\n",
              "0                  0        0        0                0                0   \n",
              "1                  0        0        0                0                0   \n",
              "2                  0        0        0                0                0   \n",
              "3                  0        0        0                0                0   \n",
              "4                  0        0        0                0                0   \n",
              "\n",
              "   T1_PointMargin  T2_PointMargin  T1_SeedPercent  T2_SeedPercent  Winner  \n",
              "0               0               0               0               0       2  \n",
              "1               0               0               0               0       1  \n",
              "2               0               0               0               0       2  \n",
              "3               0               0               0               0       2  \n",
              "4               0               0               0               0       2  "
            ],
            "text/html": [
              "\n",
              "  <div id=\"df-78e8396d-093f-44c1-84e1-d3ffa3e464c7\">\n",
              "    <div class=\"colab-df-container\">\n",
              "      <div>\n",
              "<style scoped>\n",
              "    .dataframe tbody tr th:only-of-type {\n",
              "        vertical-align: middle;\n",
              "    }\n",
              "\n",
              "    .dataframe tbody tr th {\n",
              "        vertical-align: top;\n",
              "    }\n",
              "\n",
              "    .dataframe thead th {\n",
              "        text-align: right;\n",
              "    }\n",
              "</style>\n",
              "<table border=\"1\" class=\"dataframe\">\n",
              "  <thead>\n",
              "    <tr style=\"text-align: right;\">\n",
              "      <th></th>\n",
              "      <th>T1_ID</th>\n",
              "      <th>T2_ID</th>\n",
              "      <th>Season</th>\n",
              "      <th>T1_Seed</th>\n",
              "      <th>T2_Seed</th>\n",
              "      <th>T1_PPG</th>\n",
              "      <th>T2_PPG</th>\n",
              "      <th>T1_SeedWinPercent</th>\n",
              "      <th>T2_SeedWinPercent</th>\n",
              "      <th>T1_Rank</th>\n",
              "      <th>T2_Rank</th>\n",
              "      <th>T1_RSWinPercent</th>\n",
              "      <th>T2_RSWinPercent</th>\n",
              "      <th>T1_PointMargin</th>\n",
              "      <th>T2_PointMargin</th>\n",
              "      <th>T1_SeedPercent</th>\n",
              "      <th>T2_SeedPercent</th>\n",
              "      <th>Winner</th>\n",
              "    </tr>\n",
              "  </thead>\n",
              "  <tbody>\n",
              "    <tr>\n",
              "      <th>0</th>\n",
              "      <td>1234</td>\n",
              "      <td>1116</td>\n",
              "      <td>1985</td>\n",
              "      <td>0</td>\n",
              "      <td>0</td>\n",
              "      <td>0</td>\n",
              "      <td>0</td>\n",
              "      <td>0</td>\n",
              "      <td>0</td>\n",
              "      <td>0</td>\n",
              "      <td>0</td>\n",
              "      <td>0</td>\n",
              "      <td>0</td>\n",
              "      <td>0</td>\n",
              "      <td>0</td>\n",
              "      <td>0</td>\n",
              "      <td>0</td>\n",
              "      <td>2</td>\n",
              "    </tr>\n",
              "    <tr>\n",
              "      <th>1</th>\n",
              "      <td>1120</td>\n",
              "      <td>1345</td>\n",
              "      <td>1985</td>\n",
              "      <td>0</td>\n",
              "      <td>0</td>\n",
              "      <td>0</td>\n",
              "      <td>0</td>\n",
              "      <td>0</td>\n",
              "      <td>0</td>\n",
              "      <td>0</td>\n",
              "      <td>0</td>\n",
              "      <td>0</td>\n",
              "      <td>0</td>\n",
              "      <td>0</td>\n",
              "      <td>0</td>\n",
              "      <td>0</td>\n",
              "      <td>0</td>\n",
              "      <td>1</td>\n",
              "    </tr>\n",
              "    <tr>\n",
              "      <th>2</th>\n",
              "      <td>1250</td>\n",
              "      <td>1207</td>\n",
              "      <td>1985</td>\n",
              "      <td>0</td>\n",
              "      <td>0</td>\n",
              "      <td>0</td>\n",
              "      <td>0</td>\n",
              "      <td>0</td>\n",
              "      <td>0</td>\n",
              "      <td>0</td>\n",
              "      <td>0</td>\n",
              "      <td>0</td>\n",
              "      <td>0</td>\n",
              "      <td>0</td>\n",
              "      <td>0</td>\n",
              "      <td>0</td>\n",
              "      <td>0</td>\n",
              "      <td>2</td>\n",
              "    </tr>\n",
              "    <tr>\n",
              "      <th>3</th>\n",
              "      <td>1425</td>\n",
              "      <td>1229</td>\n",
              "      <td>1985</td>\n",
              "      <td>0</td>\n",
              "      <td>0</td>\n",
              "      <td>0</td>\n",
              "      <td>0</td>\n",
              "      <td>0</td>\n",
              "      <td>0</td>\n",
              "      <td>0</td>\n",
              "      <td>0</td>\n",
              "      <td>0</td>\n",
              "      <td>0</td>\n",
              "      <td>0</td>\n",
              "      <td>0</td>\n",
              "      <td>0</td>\n",
              "      <td>0</td>\n",
              "      <td>2</td>\n",
              "    </tr>\n",
              "    <tr>\n",
              "      <th>4</th>\n",
              "      <td>1325</td>\n",
              "      <td>1242</td>\n",
              "      <td>1985</td>\n",
              "      <td>0</td>\n",
              "      <td>0</td>\n",
              "      <td>0</td>\n",
              "      <td>0</td>\n",
              "      <td>0</td>\n",
              "      <td>0</td>\n",
              "      <td>0</td>\n",
              "      <td>0</td>\n",
              "      <td>0</td>\n",
              "      <td>0</td>\n",
              "      <td>0</td>\n",
              "      <td>0</td>\n",
              "      <td>0</td>\n",
              "      <td>0</td>\n",
              "      <td>2</td>\n",
              "    </tr>\n",
              "  </tbody>\n",
              "</table>\n",
              "</div>\n",
              "      <button class=\"colab-df-convert\" onclick=\"convertToInteractive('df-78e8396d-093f-44c1-84e1-d3ffa3e464c7')\"\n",
              "              title=\"Convert this dataframe to an interactive table.\"\n",
              "              style=\"display:none;\">\n",
              "        \n",
              "  <svg xmlns=\"http://www.w3.org/2000/svg\" height=\"24px\"viewBox=\"0 0 24 24\"\n",
              "       width=\"24px\">\n",
              "    <path d=\"M0 0h24v24H0V0z\" fill=\"none\"/>\n",
              "    <path d=\"M18.56 5.44l.94 2.06.94-2.06 2.06-.94-2.06-.94-.94-2.06-.94 2.06-2.06.94zm-11 1L8.5 8.5l.94-2.06 2.06-.94-2.06-.94L8.5 2.5l-.94 2.06-2.06.94zm10 10l.94 2.06.94-2.06 2.06-.94-2.06-.94-.94-2.06-.94 2.06-2.06.94z\"/><path d=\"M17.41 7.96l-1.37-1.37c-.4-.4-.92-.59-1.43-.59-.52 0-1.04.2-1.43.59L10.3 9.45l-7.72 7.72c-.78.78-.78 2.05 0 2.83L4 21.41c.39.39.9.59 1.41.59.51 0 1.02-.2 1.41-.59l7.78-7.78 2.81-2.81c.8-.78.8-2.07 0-2.86zM5.41 20L4 18.59l7.72-7.72 1.47 1.35L5.41 20z\"/>\n",
              "  </svg>\n",
              "      </button>\n",
              "      \n",
              "  <style>\n",
              "    .colab-df-container {\n",
              "      display:flex;\n",
              "      flex-wrap:wrap;\n",
              "      gap: 12px;\n",
              "    }\n",
              "\n",
              "    .colab-df-convert {\n",
              "      background-color: #E8F0FE;\n",
              "      border: none;\n",
              "      border-radius: 50%;\n",
              "      cursor: pointer;\n",
              "      display: none;\n",
              "      fill: #1967D2;\n",
              "      height: 32px;\n",
              "      padding: 0 0 0 0;\n",
              "      width: 32px;\n",
              "    }\n",
              "\n",
              "    .colab-df-convert:hover {\n",
              "      background-color: #E2EBFA;\n",
              "      box-shadow: 0px 1px 2px rgba(60, 64, 67, 0.3), 0px 1px 3px 1px rgba(60, 64, 67, 0.15);\n",
              "      fill: #174EA6;\n",
              "    }\n",
              "\n",
              "    [theme=dark] .colab-df-convert {\n",
              "      background-color: #3B4455;\n",
              "      fill: #D2E3FC;\n",
              "    }\n",
              "\n",
              "    [theme=dark] .colab-df-convert:hover {\n",
              "      background-color: #434B5C;\n",
              "      box-shadow: 0px 1px 3px 1px rgba(0, 0, 0, 0.15);\n",
              "      filter: drop-shadow(0px 1px 2px rgba(0, 0, 0, 0.3));\n",
              "      fill: #FFFFFF;\n",
              "    }\n",
              "  </style>\n",
              "\n",
              "      <script>\n",
              "        const buttonEl =\n",
              "          document.querySelector('#df-78e8396d-093f-44c1-84e1-d3ffa3e464c7 button.colab-df-convert');\n",
              "        buttonEl.style.display =\n",
              "          google.colab.kernel.accessAllowed ? 'block' : 'none';\n",
              "\n",
              "        async function convertToInteractive(key) {\n",
              "          const element = document.querySelector('#df-78e8396d-093f-44c1-84e1-d3ffa3e464c7');\n",
              "          const dataTable =\n",
              "            await google.colab.kernel.invokeFunction('convertToInteractive',\n",
              "                                                     [key], {});\n",
              "          if (!dataTable) return;\n",
              "\n",
              "          const docLinkHtml = 'Like what you see? Visit the ' +\n",
              "            '<a target=\"_blank\" href=https://colab.research.google.com/notebooks/data_table.ipynb>data table notebook</a>'\n",
              "            + ' to learn more about interactive tables.';\n",
              "          element.innerHTML = '';\n",
              "          dataTable['output_type'] = 'display_data';\n",
              "          await google.colab.output.renderOutput(dataTable, element);\n",
              "          const docLink = document.createElement('div');\n",
              "          docLink.innerHTML = docLinkHtml;\n",
              "          element.appendChild(docLink);\n",
              "        }\n",
              "      </script>\n",
              "    </div>\n",
              "  </div>\n",
              "  "
            ]
          },
          "metadata": {},
          "execution_count": 14
        }
      ]
    },
    {
      "cell_type": "markdown",
      "source": [
        "Linear Regression - here we are just testing to see the original accuracy with little to no data"
      ],
      "metadata": {
        "id": "Jvh1GlMiFP4f"
      }
    },
    {
      "cell_type": "code",
      "source": [
        "df2 = df\n",
        "results = pd.DataFrame(df2['Winner'])\n",
        "x = df2.iloc[: , :-1]\n",
        "\n",
        "length = len(df)\n",
        "test_x = x.iloc[int(length*.8):]\n",
        "test_y = results.iloc[int(length*.8):]\n",
        "train_x = x.iloc[0:int(length*.8)]\n",
        "train_y = results.iloc[0:int(length*.8)]\n",
        "\n",
        "from sklearn.linear_model import LogisticRegression\n",
        "\n",
        "lr = LogisticRegression(random_state=0).fit(train_x, train_y)\n",
        "lr.score(test_x, test_y)"
      ],
      "metadata": {
        "colab": {
          "base_uri": "https://localhost:8080/"
        },
        "id": "jg9p9bwCFOqe",
        "outputId": "06c134b5-dee2-4d89-831e-abffc6f25afa"
      },
      "execution_count": 15,
      "outputs": [
        {
          "output_type": "stream",
          "name": "stderr",
          "text": [
            "/usr/local/lib/python3.7/dist-packages/sklearn/utils/validation.py:993: DataConversionWarning: A column-vector y was passed when a 1d array was expected. Please change the shape of y to (n_samples, ), for example using ravel().\n",
            "  y = column_or_1d(y, warn=True)\n"
          ]
        },
        {
          "output_type": "execute_result",
          "data": {
            "text/plain": [
              "0.5"
            ]
          },
          "metadata": {},
          "execution_count": 15
        }
      ]
    },
    {
      "cell_type": "markdown",
      "source": [
        "Our initial model is 50%, which makes sense because guessing the team is as good as a coin flip without relevant data"
      ],
      "metadata": {
        "id": "WIkq7nmZFmT4"
      }
    },
    {
      "cell_type": "markdown",
      "source": [
        "Get Seed (1-16) of each team"
      ],
      "metadata": {
        "id": "wFZ8ot59C5YF"
      }
    },
    {
      "cell_type": "code",
      "source": [
        "for i in range(0,len(df)):\n",
        "  team1id = df['T1_ID'][i]\n",
        "  team2id = df['T2_ID'][i]\n",
        "  season = df['Season'][i]\n",
        "  for a in range(0,len(MNCAATourneySeeds)):\n",
        "    if MNCAATourneySeeds['Season'][a] == season and MNCAATourneySeeds['TeamID'][a] == team1id:\n",
        "      seed = MNCAATourneySeeds['Seed'][a]\n",
        "      seed = seed[1:3]\n",
        "      df['T1_Seed'][i] = seed\n",
        "      break\n",
        "  for b in range(0,len(MNCAATourneySeeds)):\n",
        "    if MNCAATourneySeeds['Season'][b] == season and MNCAATourneySeeds['TeamID'][b] == team2id:\n",
        "      seed = MNCAATourneySeeds['Seed'][b]\n",
        "      seed = seed[1:3]\n",
        "      df['T2_Seed'][i] = seed\n",
        "      break"
      ],
      "metadata": {
        "id": "zO2VE2RRC_LP"
      },
      "execution_count": 16,
      "outputs": []
    },
    {
      "cell_type": "markdown",
      "source": [
        "Get all time seed winning percentage (ex: winning percentage of 1 seeds vs every other seed)"
      ],
      "metadata": {
        "id": "TEZQPgPXC_0X"
      }
    },
    {
      "cell_type": "code",
      "source": [
        "totalSeedWins = [0,0,0,0,0,0,0,0,0,0,0,0,0,0,0,0]\n",
        "totalSeedGames = [0,0,0,0,0,0,0,0,0,0,0,0,0,0,0,0]\n",
        "seed_dict = MNCAATourneySeeds.to_dict()\n",
        "for i in range(0,len(MNCAATourneyCompactResults)):\n",
        "  team1 = MNCAATourneyCompactResults['WTeamID'][i]\n",
        "  team1Season = MNCAATourneyCompactResults['Season'][i]\n",
        "  team2 = MNCAATourneyCompactResults['LTeamID'][i]\n",
        "  team2Season = MNCAATourneyCompactResults['Season'][i]\n",
        "\n",
        "  for b in range(0,len(MNCAATourneySeeds)):\n",
        "    if MNCAATourneySeeds['Season'][b] == team1Season and team1 == MNCAATourneySeeds['TeamID'][b]:\n",
        "      seed1 = MNCAATourneySeeds['Seed'][b]\n",
        "      seed1 = seed1[1:3]\n",
        "      seed1 = int(seed1)\n",
        "      break\n",
        "\n",
        "  for b in range(0,len(MNCAATourneySeeds)):\n",
        "    if MNCAATourneySeeds['Season'][b] == team2Season and team2 == MNCAATourneySeeds['TeamID'][b]:\n",
        "      seed2 = MNCAATourneySeeds['Seed'][b]\n",
        "      seed2 = seed2[1:3]\n",
        "      seed2 = int(seed2)\n",
        "      break\n",
        "  if seed1 != seed2:\n",
        "    totalSeedWins[seed1-1] +=1\n",
        "    totalSeedGames[seed1-1] +=1\n",
        "    totalSeedGames[seed2-1] +=1"
      ],
      "metadata": {
        "id": "RF-W289KDIE-"
      },
      "execution_count": 17,
      "outputs": []
    },
    {
      "cell_type": "code",
      "source": [
        "totalSeedPercentages = [0,0,0,0,0,0,0,0,0,0,0,0,0,0,0,0]\n",
        "import math\n",
        "for i in range(0,16):\n",
        "  totalSeedPercentages[i] = totalSeedWins[i]/totalSeedGames[i]\n",
        "  totalSeedPercentages[i] *=100\n",
        "  totalSeedPercentages[i] = int(math.ceil(totalSeedPercentages[i]))\n",
        "totalSeedPercentages"
      ],
      "metadata": {
        "colab": {
          "base_uri": "https://localhost:8080/"
        },
        "id": "weSM_U0mDQ-9",
        "outputId": "ebfdbb45-3063-48dd-e79c-aebea446f246"
      },
      "execution_count": 18,
      "outputs": [
        {
          "output_type": "execute_result",
          "data": {
            "text/plain": [
              "[83, 72, 66, 61, 53, 52, 48, 42, 38, 39, 39, 35, 21, 15, 8, 1]"
            ]
          },
          "metadata": {},
          "execution_count": 18
        }
      ]
    },
    {
      "cell_type": "markdown",
      "source": [
        "Add the seeds to the dataframe"
      ],
      "metadata": {
        "id": "DinOPe99DS6_"
      }
    },
    {
      "cell_type": "code",
      "source": [
        "for i in range(0,len(df)):\n",
        "  seed1 = df['T1_Seed'][i]\n",
        "  seed2 = df['T2_Seed'][i]\n",
        "  win1=totalSeedPercentages[int(seed1)-1]\n",
        "  win2=totalSeedPercentages[int(seed2)-1]\n",
        "\n",
        "  df['T1_SeedWinPercent'][i] = int(win1)\n",
        "  df['T2_SeedWinPercent'][i] = int(win2)\n",
        "df.head()"
      ],
      "metadata": {
        "colab": {
          "base_uri": "https://localhost:8080/",
          "height": 270
        },
        "id": "hX9utctHDRVd",
        "outputId": "6502c1d6-f796-4239-908e-7d44ad9ba146"
      },
      "execution_count": 19,
      "outputs": [
        {
          "output_type": "execute_result",
          "data": {
            "text/plain": [
              "   T1_ID  T2_ID  Season  T1_Seed  T2_Seed  T1_PPG  T2_PPG  T1_SeedWinPercent  \\\n",
              "0   1234   1116    1985        8        9       0       0                 42   \n",
              "1   1120   1345    1985       11        6       0       0                 39   \n",
              "2   1250   1207    1985       16        1       0       0                  1   \n",
              "3   1425   1229    1985        8        9       0       0                 42   \n",
              "4   1325   1242    1985       14        3       0       0                 15   \n",
              "\n",
              "   T2_SeedWinPercent  T1_Rank  T2_Rank  T1_RSWinPercent  T2_RSWinPercent  \\\n",
              "0                 38        0        0                0                0   \n",
              "1                 52        0        0                0                0   \n",
              "2                 83        0        0                0                0   \n",
              "3                 38        0        0                0                0   \n",
              "4                 66        0        0                0                0   \n",
              "\n",
              "   T1_PointMargin  T2_PointMargin  T1_SeedPercent  T2_SeedPercent  Winner  \n",
              "0               0               0               0               0       2  \n",
              "1               0               0               0               0       1  \n",
              "2               0               0               0               0       2  \n",
              "3               0               0               0               0       2  \n",
              "4               0               0               0               0       2  "
            ],
            "text/html": [
              "\n",
              "  <div id=\"df-d5e3ce2d-75ea-43c9-a7cb-3d9a4436effe\">\n",
              "    <div class=\"colab-df-container\">\n",
              "      <div>\n",
              "<style scoped>\n",
              "    .dataframe tbody tr th:only-of-type {\n",
              "        vertical-align: middle;\n",
              "    }\n",
              "\n",
              "    .dataframe tbody tr th {\n",
              "        vertical-align: top;\n",
              "    }\n",
              "\n",
              "    .dataframe thead th {\n",
              "        text-align: right;\n",
              "    }\n",
              "</style>\n",
              "<table border=\"1\" class=\"dataframe\">\n",
              "  <thead>\n",
              "    <tr style=\"text-align: right;\">\n",
              "      <th></th>\n",
              "      <th>T1_ID</th>\n",
              "      <th>T2_ID</th>\n",
              "      <th>Season</th>\n",
              "      <th>T1_Seed</th>\n",
              "      <th>T2_Seed</th>\n",
              "      <th>T1_PPG</th>\n",
              "      <th>T2_PPG</th>\n",
              "      <th>T1_SeedWinPercent</th>\n",
              "      <th>T2_SeedWinPercent</th>\n",
              "      <th>T1_Rank</th>\n",
              "      <th>T2_Rank</th>\n",
              "      <th>T1_RSWinPercent</th>\n",
              "      <th>T2_RSWinPercent</th>\n",
              "      <th>T1_PointMargin</th>\n",
              "      <th>T2_PointMargin</th>\n",
              "      <th>T1_SeedPercent</th>\n",
              "      <th>T2_SeedPercent</th>\n",
              "      <th>Winner</th>\n",
              "    </tr>\n",
              "  </thead>\n",
              "  <tbody>\n",
              "    <tr>\n",
              "      <th>0</th>\n",
              "      <td>1234</td>\n",
              "      <td>1116</td>\n",
              "      <td>1985</td>\n",
              "      <td>8</td>\n",
              "      <td>9</td>\n",
              "      <td>0</td>\n",
              "      <td>0</td>\n",
              "      <td>42</td>\n",
              "      <td>38</td>\n",
              "      <td>0</td>\n",
              "      <td>0</td>\n",
              "      <td>0</td>\n",
              "      <td>0</td>\n",
              "      <td>0</td>\n",
              "      <td>0</td>\n",
              "      <td>0</td>\n",
              "      <td>0</td>\n",
              "      <td>2</td>\n",
              "    </tr>\n",
              "    <tr>\n",
              "      <th>1</th>\n",
              "      <td>1120</td>\n",
              "      <td>1345</td>\n",
              "      <td>1985</td>\n",
              "      <td>11</td>\n",
              "      <td>6</td>\n",
              "      <td>0</td>\n",
              "      <td>0</td>\n",
              "      <td>39</td>\n",
              "      <td>52</td>\n",
              "      <td>0</td>\n",
              "      <td>0</td>\n",
              "      <td>0</td>\n",
              "      <td>0</td>\n",
              "      <td>0</td>\n",
              "      <td>0</td>\n",
              "      <td>0</td>\n",
              "      <td>0</td>\n",
              "      <td>1</td>\n",
              "    </tr>\n",
              "    <tr>\n",
              "      <th>2</th>\n",
              "      <td>1250</td>\n",
              "      <td>1207</td>\n",
              "      <td>1985</td>\n",
              "      <td>16</td>\n",
              "      <td>1</td>\n",
              "      <td>0</td>\n",
              "      <td>0</td>\n",
              "      <td>1</td>\n",
              "      <td>83</td>\n",
              "      <td>0</td>\n",
              "      <td>0</td>\n",
              "      <td>0</td>\n",
              "      <td>0</td>\n",
              "      <td>0</td>\n",
              "      <td>0</td>\n",
              "      <td>0</td>\n",
              "      <td>0</td>\n",
              "      <td>2</td>\n",
              "    </tr>\n",
              "    <tr>\n",
              "      <th>3</th>\n",
              "      <td>1425</td>\n",
              "      <td>1229</td>\n",
              "      <td>1985</td>\n",
              "      <td>8</td>\n",
              "      <td>9</td>\n",
              "      <td>0</td>\n",
              "      <td>0</td>\n",
              "      <td>42</td>\n",
              "      <td>38</td>\n",
              "      <td>0</td>\n",
              "      <td>0</td>\n",
              "      <td>0</td>\n",
              "      <td>0</td>\n",
              "      <td>0</td>\n",
              "      <td>0</td>\n",
              "      <td>0</td>\n",
              "      <td>0</td>\n",
              "      <td>2</td>\n",
              "    </tr>\n",
              "    <tr>\n",
              "      <th>4</th>\n",
              "      <td>1325</td>\n",
              "      <td>1242</td>\n",
              "      <td>1985</td>\n",
              "      <td>14</td>\n",
              "      <td>3</td>\n",
              "      <td>0</td>\n",
              "      <td>0</td>\n",
              "      <td>15</td>\n",
              "      <td>66</td>\n",
              "      <td>0</td>\n",
              "      <td>0</td>\n",
              "      <td>0</td>\n",
              "      <td>0</td>\n",
              "      <td>0</td>\n",
              "      <td>0</td>\n",
              "      <td>0</td>\n",
              "      <td>0</td>\n",
              "      <td>2</td>\n",
              "    </tr>\n",
              "  </tbody>\n",
              "</table>\n",
              "</div>\n",
              "      <button class=\"colab-df-convert\" onclick=\"convertToInteractive('df-d5e3ce2d-75ea-43c9-a7cb-3d9a4436effe')\"\n",
              "              title=\"Convert this dataframe to an interactive table.\"\n",
              "              style=\"display:none;\">\n",
              "        \n",
              "  <svg xmlns=\"http://www.w3.org/2000/svg\" height=\"24px\"viewBox=\"0 0 24 24\"\n",
              "       width=\"24px\">\n",
              "    <path d=\"M0 0h24v24H0V0z\" fill=\"none\"/>\n",
              "    <path d=\"M18.56 5.44l.94 2.06.94-2.06 2.06-.94-2.06-.94-.94-2.06-.94 2.06-2.06.94zm-11 1L8.5 8.5l.94-2.06 2.06-.94-2.06-.94L8.5 2.5l-.94 2.06-2.06.94zm10 10l.94 2.06.94-2.06 2.06-.94-2.06-.94-.94-2.06-.94 2.06-2.06.94z\"/><path d=\"M17.41 7.96l-1.37-1.37c-.4-.4-.92-.59-1.43-.59-.52 0-1.04.2-1.43.59L10.3 9.45l-7.72 7.72c-.78.78-.78 2.05 0 2.83L4 21.41c.39.39.9.59 1.41.59.51 0 1.02-.2 1.41-.59l7.78-7.78 2.81-2.81c.8-.78.8-2.07 0-2.86zM5.41 20L4 18.59l7.72-7.72 1.47 1.35L5.41 20z\"/>\n",
              "  </svg>\n",
              "      </button>\n",
              "      \n",
              "  <style>\n",
              "    .colab-df-container {\n",
              "      display:flex;\n",
              "      flex-wrap:wrap;\n",
              "      gap: 12px;\n",
              "    }\n",
              "\n",
              "    .colab-df-convert {\n",
              "      background-color: #E8F0FE;\n",
              "      border: none;\n",
              "      border-radius: 50%;\n",
              "      cursor: pointer;\n",
              "      display: none;\n",
              "      fill: #1967D2;\n",
              "      height: 32px;\n",
              "      padding: 0 0 0 0;\n",
              "      width: 32px;\n",
              "    }\n",
              "\n",
              "    .colab-df-convert:hover {\n",
              "      background-color: #E2EBFA;\n",
              "      box-shadow: 0px 1px 2px rgba(60, 64, 67, 0.3), 0px 1px 3px 1px rgba(60, 64, 67, 0.15);\n",
              "      fill: #174EA6;\n",
              "    }\n",
              "\n",
              "    [theme=dark] .colab-df-convert {\n",
              "      background-color: #3B4455;\n",
              "      fill: #D2E3FC;\n",
              "    }\n",
              "\n",
              "    [theme=dark] .colab-df-convert:hover {\n",
              "      background-color: #434B5C;\n",
              "      box-shadow: 0px 1px 3px 1px rgba(0, 0, 0, 0.15);\n",
              "      filter: drop-shadow(0px 1px 2px rgba(0, 0, 0, 0.3));\n",
              "      fill: #FFFFFF;\n",
              "    }\n",
              "  </style>\n",
              "\n",
              "      <script>\n",
              "        const buttonEl =\n",
              "          document.querySelector('#df-d5e3ce2d-75ea-43c9-a7cb-3d9a4436effe button.colab-df-convert');\n",
              "        buttonEl.style.display =\n",
              "          google.colab.kernel.accessAllowed ? 'block' : 'none';\n",
              "\n",
              "        async function convertToInteractive(key) {\n",
              "          const element = document.querySelector('#df-d5e3ce2d-75ea-43c9-a7cb-3d9a4436effe');\n",
              "          const dataTable =\n",
              "            await google.colab.kernel.invokeFunction('convertToInteractive',\n",
              "                                                     [key], {});\n",
              "          if (!dataTable) return;\n",
              "\n",
              "          const docLinkHtml = 'Like what you see? Visit the ' +\n",
              "            '<a target=\"_blank\" href=https://colab.research.google.com/notebooks/data_table.ipynb>data table notebook</a>'\n",
              "            + ' to learn more about interactive tables.';\n",
              "          element.innerHTML = '';\n",
              "          dataTable['output_type'] = 'display_data';\n",
              "          await google.colab.output.renderOutput(dataTable, element);\n",
              "          const docLink = document.createElement('div');\n",
              "          docLink.innerHTML = docLinkHtml;\n",
              "          element.appendChild(docLink);\n",
              "        }\n",
              "      </script>\n",
              "    </div>\n",
              "  </div>\n",
              "  "
            ]
          },
          "metadata": {},
          "execution_count": 19
        }
      ]
    },
    {
      "cell_type": "markdown",
      "source": [
        "1st testing of logistic regression"
      ],
      "metadata": {
        "id": "uiom6uEbDVRW"
      }
    },
    {
      "cell_type": "code",
      "source": [
        "results = pd.DataFrame(df2['Winner'])\n",
        "x = df2.iloc[: , :-1]\n",
        "\n",
        "length = len(df)\n",
        "test_x = x.iloc[int(length*.8):]\n",
        "test_y = results.iloc[int(length*.8):]\n",
        "train_x = x.iloc[0:int(length*.8)]\n",
        "train_y = results.iloc[0:int(length*.8)]\n",
        "\n",
        "from sklearn.linear_model import LogisticRegression\n",
        "\n",
        "lr = LogisticRegression(random_state=0).fit(train_x, train_y)\n",
        "lr.score(test_x, test_y)"
      ],
      "metadata": {
        "colab": {
          "base_uri": "https://localhost:8080/"
        },
        "id": "Vlm1XDcEEvfW",
        "outputId": "2be2448b-9692-4b29-b400-228b652626d2"
      },
      "execution_count": 20,
      "outputs": [
        {
          "output_type": "stream",
          "name": "stderr",
          "text": [
            "/usr/local/lib/python3.7/dist-packages/sklearn/utils/validation.py:993: DataConversionWarning: A column-vector y was passed when a 1d array was expected. Please change the shape of y to (n_samples, ), for example using ravel().\n",
            "  y = column_or_1d(y, warn=True)\n"
          ]
        },
        {
          "output_type": "execute_result",
          "data": {
            "text/plain": [
              "0.6896551724137931"
            ]
          },
          "metadata": {},
          "execution_count": 20
        }
      ]
    },
    {
      "cell_type": "markdown",
      "source": [
        "Get regular season ranking (1-300+) of each team"
      ],
      "metadata": {
        "id": "442_OnlmGZ4h"
      }
    },
    {
      "cell_type": "code",
      "source": [
        "RS_ranking = []\n",
        "year_team = []\n",
        "\n",
        "for i in range(0,len(MMasseyOrdinals)):\n",
        "  if MMasseyOrdinals['RankingDayNum'][i] == 133:\n",
        "    RS_ranking.append(MMasseyOrdinals['OrdinalRank'][i])\n",
        "    yearTeamString = str(MMasseyOrdinals['Season'][i]) + str('_') + str(MMasseyOrdinals['TeamID'][i])\n",
        "    year_team.append(yearTeamString)"
      ],
      "metadata": {
        "id": "IyvaVSTDGi4I"
      },
      "execution_count": 21,
      "outputs": []
    },
    {
      "cell_type": "code",
      "source": [
        "year_team.index('2003_1112')"
      ],
      "metadata": {
        "colab": {
          "base_uri": "https://localhost:8080/"
        },
        "id": "N-SX4BJ7GkM4",
        "outputId": "84f5a66a-c910-405d-c1b6-10af4b5ec343"
      },
      "execution_count": 22,
      "outputs": [
        {
          "output_type": "execute_result",
          "data": {
            "text/plain": [
              "0"
            ]
          },
          "metadata": {},
          "execution_count": 22
        }
      ]
    },
    {
      "cell_type": "markdown",
      "source": [
        "Below, we had to fill in some missing values. Rankings weren't kept before the 2003 season. I decided it would be best to just take the current tournament seeding (1-16) and multiply it by 4. This becomes less accurate for worse seeds, but I found this to be the best way to make up for the lost data."
      ],
      "metadata": {
        "id": "XWA9RR1IGxv4"
      }
    },
    {
      "cell_type": "code",
      "source": [
        "for i in range(0,len(df)):\n",
        "  if df['Season'][i] >= 2003:\n",
        "    team1YearTeam = str(df['Season'][i]) + '_' + str(df['T1_ID'][i])\n",
        "    team2YearTeam = str(df['Season'][i]) + '_' + str(df['T2_ID'][i])\n",
        "\n",
        "    team1YT = year_team.index(team1YearTeam)\n",
        "    team2YT = year_team.index(team2YearTeam)\n",
        "\n",
        "    df['T1_Rank'][i] = int(RS_ranking[team1YT])\n",
        "    df['T2_Rank'][i] = int(RS_ranking[team2YT])\n",
        "    \n",
        "  else:\n",
        "    df['T1_Rank'][i] = df['T1_Seed'][i]*4\n",
        "    df['T2_Rank'][i] = df['T2_Seed'][i]*4\n",
        "    #df['T1_Rank'][i] = 0\n",
        "    #df['T2_Rank'][i] = 0"
      ],
      "metadata": {
        "id": "g0KZMxFhGnF4"
      },
      "execution_count": 23,
      "outputs": []
    },
    {
      "cell_type": "markdown",
      "source": [
        "2nd testing of linear regression"
      ],
      "metadata": {
        "id": "qLnXZkYxGs2G"
      }
    },
    {
      "cell_type": "code",
      "source": [
        "df2 = df\n",
        "results = pd.DataFrame(df2['Winner'])\n",
        "x = df2.iloc[: , :-1]\n",
        "\n",
        "length = len(df)\n",
        "test_x = x.iloc[int(length*.8):]\n",
        "test_y = results.iloc[int(length*.8):]\n",
        "train_x = x.iloc[0:int(length*.8)]\n",
        "train_y = results.iloc[0:int(length*.8)]\n",
        "\n",
        "from sklearn.linear_model import LogisticRegression\n",
        "\n",
        "lr = LogisticRegression(random_state=0).fit(train_x, train_y)\n",
        "lr.score(test_x, test_y)"
      ],
      "metadata": {
        "colab": {
          "base_uri": "https://localhost:8080/"
        },
        "id": "1sz_wwAuGuuP",
        "outputId": "dcc3e6fb-974a-4f81-f2f4-ddcf2a4a807b"
      },
      "execution_count": 24,
      "outputs": [
        {
          "output_type": "stream",
          "name": "stderr",
          "text": [
            "/usr/local/lib/python3.7/dist-packages/sklearn/utils/validation.py:993: DataConversionWarning: A column-vector y was passed when a 1d array was expected. Please change the shape of y to (n_samples, ), for example using ravel().\n",
            "  y = column_or_1d(y, warn=True)\n",
            "/usr/local/lib/python3.7/dist-packages/sklearn/linear_model/_logistic.py:818: ConvergenceWarning: lbfgs failed to converge (status=1):\n",
            "STOP: TOTAL NO. of ITERATIONS REACHED LIMIT.\n",
            "\n",
            "Increase the number of iterations (max_iter) or scale the data as shown in:\n",
            "    https://scikit-learn.org/stable/modules/preprocessing.html\n",
            "Please also refer to the documentation for alternative solver options:\n",
            "    https://scikit-learn.org/stable/modules/linear_model.html#logistic-regression\n",
            "  extra_warning_msg=_LOGISTIC_SOLVER_CONVERGENCE_MSG,\n"
          ]
        },
        {
          "output_type": "execute_result",
          "data": {
            "text/plain": [
              "0.6982758620689655"
            ]
          },
          "metadata": {},
          "execution_count": 24
        }
      ]
    },
    {
      "cell_type": "code",
      "source": [
        "df.head()"
      ],
      "metadata": {
        "colab": {
          "base_uri": "https://localhost:8080/",
          "height": 270
        },
        "id": "OcY_Kd8dHkcu",
        "outputId": "8a6efe91-5f43-4ba1-bb00-9e866960349f"
      },
      "execution_count": 25,
      "outputs": [
        {
          "output_type": "execute_result",
          "data": {
            "text/plain": [
              "   T1_ID  T2_ID  Season  T1_Seed  T2_Seed  T1_PPG  T2_PPG  T1_SeedWinPercent  \\\n",
              "0   1234   1116    1985        8        9       0       0                 42   \n",
              "1   1120   1345    1985       11        6       0       0                 39   \n",
              "2   1250   1207    1985       16        1       0       0                  1   \n",
              "3   1425   1229    1985        8        9       0       0                 42   \n",
              "4   1325   1242    1985       14        3       0       0                 15   \n",
              "\n",
              "   T2_SeedWinPercent  T1_Rank  T2_Rank  T1_RSWinPercent  T2_RSWinPercent  \\\n",
              "0                 38       32       36                0                0   \n",
              "1                 52       44       24                0                0   \n",
              "2                 83       64        4                0                0   \n",
              "3                 38       32       36                0                0   \n",
              "4                 66       56       12                0                0   \n",
              "\n",
              "   T1_PointMargin  T2_PointMargin  T1_SeedPercent  T2_SeedPercent  Winner  \n",
              "0               0               0               0               0       2  \n",
              "1               0               0               0               0       1  \n",
              "2               0               0               0               0       2  \n",
              "3               0               0               0               0       2  \n",
              "4               0               0               0               0       2  "
            ],
            "text/html": [
              "\n",
              "  <div id=\"df-b8fbe626-518a-4a97-a680-dfcd0d263b11\">\n",
              "    <div class=\"colab-df-container\">\n",
              "      <div>\n",
              "<style scoped>\n",
              "    .dataframe tbody tr th:only-of-type {\n",
              "        vertical-align: middle;\n",
              "    }\n",
              "\n",
              "    .dataframe tbody tr th {\n",
              "        vertical-align: top;\n",
              "    }\n",
              "\n",
              "    .dataframe thead th {\n",
              "        text-align: right;\n",
              "    }\n",
              "</style>\n",
              "<table border=\"1\" class=\"dataframe\">\n",
              "  <thead>\n",
              "    <tr style=\"text-align: right;\">\n",
              "      <th></th>\n",
              "      <th>T1_ID</th>\n",
              "      <th>T2_ID</th>\n",
              "      <th>Season</th>\n",
              "      <th>T1_Seed</th>\n",
              "      <th>T2_Seed</th>\n",
              "      <th>T1_PPG</th>\n",
              "      <th>T2_PPG</th>\n",
              "      <th>T1_SeedWinPercent</th>\n",
              "      <th>T2_SeedWinPercent</th>\n",
              "      <th>T1_Rank</th>\n",
              "      <th>T2_Rank</th>\n",
              "      <th>T1_RSWinPercent</th>\n",
              "      <th>T2_RSWinPercent</th>\n",
              "      <th>T1_PointMargin</th>\n",
              "      <th>T2_PointMargin</th>\n",
              "      <th>T1_SeedPercent</th>\n",
              "      <th>T2_SeedPercent</th>\n",
              "      <th>Winner</th>\n",
              "    </tr>\n",
              "  </thead>\n",
              "  <tbody>\n",
              "    <tr>\n",
              "      <th>0</th>\n",
              "      <td>1234</td>\n",
              "      <td>1116</td>\n",
              "      <td>1985</td>\n",
              "      <td>8</td>\n",
              "      <td>9</td>\n",
              "      <td>0</td>\n",
              "      <td>0</td>\n",
              "      <td>42</td>\n",
              "      <td>38</td>\n",
              "      <td>32</td>\n",
              "      <td>36</td>\n",
              "      <td>0</td>\n",
              "      <td>0</td>\n",
              "      <td>0</td>\n",
              "      <td>0</td>\n",
              "      <td>0</td>\n",
              "      <td>0</td>\n",
              "      <td>2</td>\n",
              "    </tr>\n",
              "    <tr>\n",
              "      <th>1</th>\n",
              "      <td>1120</td>\n",
              "      <td>1345</td>\n",
              "      <td>1985</td>\n",
              "      <td>11</td>\n",
              "      <td>6</td>\n",
              "      <td>0</td>\n",
              "      <td>0</td>\n",
              "      <td>39</td>\n",
              "      <td>52</td>\n",
              "      <td>44</td>\n",
              "      <td>24</td>\n",
              "      <td>0</td>\n",
              "      <td>0</td>\n",
              "      <td>0</td>\n",
              "      <td>0</td>\n",
              "      <td>0</td>\n",
              "      <td>0</td>\n",
              "      <td>1</td>\n",
              "    </tr>\n",
              "    <tr>\n",
              "      <th>2</th>\n",
              "      <td>1250</td>\n",
              "      <td>1207</td>\n",
              "      <td>1985</td>\n",
              "      <td>16</td>\n",
              "      <td>1</td>\n",
              "      <td>0</td>\n",
              "      <td>0</td>\n",
              "      <td>1</td>\n",
              "      <td>83</td>\n",
              "      <td>64</td>\n",
              "      <td>4</td>\n",
              "      <td>0</td>\n",
              "      <td>0</td>\n",
              "      <td>0</td>\n",
              "      <td>0</td>\n",
              "      <td>0</td>\n",
              "      <td>0</td>\n",
              "      <td>2</td>\n",
              "    </tr>\n",
              "    <tr>\n",
              "      <th>3</th>\n",
              "      <td>1425</td>\n",
              "      <td>1229</td>\n",
              "      <td>1985</td>\n",
              "      <td>8</td>\n",
              "      <td>9</td>\n",
              "      <td>0</td>\n",
              "      <td>0</td>\n",
              "      <td>42</td>\n",
              "      <td>38</td>\n",
              "      <td>32</td>\n",
              "      <td>36</td>\n",
              "      <td>0</td>\n",
              "      <td>0</td>\n",
              "      <td>0</td>\n",
              "      <td>0</td>\n",
              "      <td>0</td>\n",
              "      <td>0</td>\n",
              "      <td>2</td>\n",
              "    </tr>\n",
              "    <tr>\n",
              "      <th>4</th>\n",
              "      <td>1325</td>\n",
              "      <td>1242</td>\n",
              "      <td>1985</td>\n",
              "      <td>14</td>\n",
              "      <td>3</td>\n",
              "      <td>0</td>\n",
              "      <td>0</td>\n",
              "      <td>15</td>\n",
              "      <td>66</td>\n",
              "      <td>56</td>\n",
              "      <td>12</td>\n",
              "      <td>0</td>\n",
              "      <td>0</td>\n",
              "      <td>0</td>\n",
              "      <td>0</td>\n",
              "      <td>0</td>\n",
              "      <td>0</td>\n",
              "      <td>2</td>\n",
              "    </tr>\n",
              "  </tbody>\n",
              "</table>\n",
              "</div>\n",
              "      <button class=\"colab-df-convert\" onclick=\"convertToInteractive('df-b8fbe626-518a-4a97-a680-dfcd0d263b11')\"\n",
              "              title=\"Convert this dataframe to an interactive table.\"\n",
              "              style=\"display:none;\">\n",
              "        \n",
              "  <svg xmlns=\"http://www.w3.org/2000/svg\" height=\"24px\"viewBox=\"0 0 24 24\"\n",
              "       width=\"24px\">\n",
              "    <path d=\"M0 0h24v24H0V0z\" fill=\"none\"/>\n",
              "    <path d=\"M18.56 5.44l.94 2.06.94-2.06 2.06-.94-2.06-.94-.94-2.06-.94 2.06-2.06.94zm-11 1L8.5 8.5l.94-2.06 2.06-.94-2.06-.94L8.5 2.5l-.94 2.06-2.06.94zm10 10l.94 2.06.94-2.06 2.06-.94-2.06-.94-.94-2.06-.94 2.06-2.06.94z\"/><path d=\"M17.41 7.96l-1.37-1.37c-.4-.4-.92-.59-1.43-.59-.52 0-1.04.2-1.43.59L10.3 9.45l-7.72 7.72c-.78.78-.78 2.05 0 2.83L4 21.41c.39.39.9.59 1.41.59.51 0 1.02-.2 1.41-.59l7.78-7.78 2.81-2.81c.8-.78.8-2.07 0-2.86zM5.41 20L4 18.59l7.72-7.72 1.47 1.35L5.41 20z\"/>\n",
              "  </svg>\n",
              "      </button>\n",
              "      \n",
              "  <style>\n",
              "    .colab-df-container {\n",
              "      display:flex;\n",
              "      flex-wrap:wrap;\n",
              "      gap: 12px;\n",
              "    }\n",
              "\n",
              "    .colab-df-convert {\n",
              "      background-color: #E8F0FE;\n",
              "      border: none;\n",
              "      border-radius: 50%;\n",
              "      cursor: pointer;\n",
              "      display: none;\n",
              "      fill: #1967D2;\n",
              "      height: 32px;\n",
              "      padding: 0 0 0 0;\n",
              "      width: 32px;\n",
              "    }\n",
              "\n",
              "    .colab-df-convert:hover {\n",
              "      background-color: #E2EBFA;\n",
              "      box-shadow: 0px 1px 2px rgba(60, 64, 67, 0.3), 0px 1px 3px 1px rgba(60, 64, 67, 0.15);\n",
              "      fill: #174EA6;\n",
              "    }\n",
              "\n",
              "    [theme=dark] .colab-df-convert {\n",
              "      background-color: #3B4455;\n",
              "      fill: #D2E3FC;\n",
              "    }\n",
              "\n",
              "    [theme=dark] .colab-df-convert:hover {\n",
              "      background-color: #434B5C;\n",
              "      box-shadow: 0px 1px 3px 1px rgba(0, 0, 0, 0.15);\n",
              "      filter: drop-shadow(0px 1px 2px rgba(0, 0, 0, 0.3));\n",
              "      fill: #FFFFFF;\n",
              "    }\n",
              "  </style>\n",
              "\n",
              "      <script>\n",
              "        const buttonEl =\n",
              "          document.querySelector('#df-b8fbe626-518a-4a97-a680-dfcd0d263b11 button.colab-df-convert');\n",
              "        buttonEl.style.display =\n",
              "          google.colab.kernel.accessAllowed ? 'block' : 'none';\n",
              "\n",
              "        async function convertToInteractive(key) {\n",
              "          const element = document.querySelector('#df-b8fbe626-518a-4a97-a680-dfcd0d263b11');\n",
              "          const dataTable =\n",
              "            await google.colab.kernel.invokeFunction('convertToInteractive',\n",
              "                                                     [key], {});\n",
              "          if (!dataTable) return;\n",
              "\n",
              "          const docLinkHtml = 'Like what you see? Visit the ' +\n",
              "            '<a target=\"_blank\" href=https://colab.research.google.com/notebooks/data_table.ipynb>data table notebook</a>'\n",
              "            + ' to learn more about interactive tables.';\n",
              "          element.innerHTML = '';\n",
              "          dataTable['output_type'] = 'display_data';\n",
              "          await google.colab.output.renderOutput(dataTable, element);\n",
              "          const docLink = document.createElement('div');\n",
              "          docLink.innerHTML = docLinkHtml;\n",
              "          element.appendChild(docLink);\n",
              "        }\n",
              "      </script>\n",
              "    </div>\n",
              "  </div>\n",
              "  "
            ]
          },
          "metadata": {},
          "execution_count": 25
        }
      ]
    },
    {
      "cell_type": "markdown",
      "source": [
        "Get regular season points per game for each team"
      ],
      "metadata": {
        "id": "wzWPBABxHl5A"
      }
    },
    {
      "cell_type": "code",
      "source": [
        "points = []\n",
        "yearTeam = []\n",
        "games = []\n",
        "wins = []\n",
        "losses = []\n",
        "for i in range(0,len(MRegularSeasonCompactResults)):\n",
        "  team1Id = MRegularSeasonCompactResults['WTeamID'][i]\n",
        "  season = MRegularSeasonCompactResults['Season'][i]\n",
        "  team2Id = MRegularSeasonCompactResults['LTeamID'][i]\n",
        "\n",
        "  t1 = str(season) + '_' + str(team1Id)\n",
        "  t2 = str(season) + '-' + str(team2Id)\n",
        "\n",
        "  if t1 in yearTeam:\n",
        "    index = yearTeam.index(t1)\n",
        "    points[index] += MRegularSeasonCompactResults['WScore'][i]\n",
        "    games[index] +=1\n",
        "    wins[index] +=1\n",
        "  else:\n",
        "    points.append(MRegularSeasonCompactResults['WScore'][i])\n",
        "    yearTeam.append(t1)\n",
        "    games.append(1)\n",
        "    wins.append(1)\n",
        "    losses.append(0)\n",
        "  \n",
        "  if t2 in yearTeam:\n",
        "    index2 = yearTeam.index(t2)\n",
        "    points[index2] += MRegularSeasonCompactResults['LScore'][i]\n",
        "    games[index2] +=1\n",
        "    losses[index2] +=1\n",
        "  else:\n",
        "    points.append(MRegularSeasonCompactResults['LScore'][i])\n",
        "    yearTeam.append(t2)\n",
        "    games.append(1)\n",
        "    losses.append(1)\n",
        "    wins.append(0)\n"
      ],
      "metadata": {
        "id": "LVi5ww1XHsEJ"
      },
      "execution_count": 26,
      "outputs": []
    },
    {
      "cell_type": "code",
      "source": [
        "for i in range(0,len(df)):\n",
        "  year_team1 = str(df['Season'][i]) + '_' + str(df['T1_ID'][i])\n",
        "  year_team2 = str(df['Season'][i]) + '_' + str(df['T2_ID'][i])\n",
        "\n",
        "  index1 = yearTeam.index(year_team1)\n",
        "  index2 = yearTeam.index(year_team2)\n",
        "\n",
        "  df['T1_PPG'][i] = float(points[index1]/games[index1])\n",
        "  df['T2_PPG'][i] = float(points[index2]/games[index2])\n",
        "\n",
        "  df['T1_RSWinPercent'][i] = float(wins[index1])\n",
        "  df['T2_RSWinPercent'][i] = float(wins[index2])"
      ],
      "metadata": {
        "id": "wywsx3mFHv2f"
      },
      "execution_count": 27,
      "outputs": []
    },
    {
      "cell_type": "markdown",
      "source": [
        "All time seed win percentages for each other (ex: 1 vs 7 for team1 seed=1 and team2 seed=7)"
      ],
      "metadata": {
        "id": "9_jmjwTnIIo4"
      }
    },
    {
      "cell_type": "code",
      "source": [
        "import numpy as np\n",
        "seedWinsAllTime = np.ones((16,16))\n",
        "\n",
        "tourney_seeds = []\n",
        "tourney_year_team = []\n",
        "\n",
        "for i in range(0,len(MNCAATourneySeeds)):\n",
        "  thisSeed = MNCAATourneySeeds['Seed'][i]\n",
        "  thisSeed = thisSeed[1:3]\n",
        "  tourney_seeds.append(thisSeed)\n",
        "  \n",
        "  tourney_year_team.append(str(MNCAATourneySeeds['Season'][i]) + '_' + str(MNCAATourneySeeds['TeamID'][i]))\n",
        "\n",
        "for i in range(0,len(MNCAATourneyCompactResults)):\n",
        "  yt1 = tourney_year_team.index(str(MNCAATourneyCompactResults['Season'][i]) + '_' + str(MNCAATourneyCompactResults['WTeamID'][i]))\n",
        "  seed1 = int(tourney_seeds[yt1])\n",
        "\n",
        "  yt2 = tourney_year_team.index(str(MNCAATourneyCompactResults['Season'][i]) + '_' + str(MNCAATourneyCompactResults['LTeamID'][i]))\n",
        "  seed2 = int(tourney_seeds[yt2])\n",
        "\n",
        "  seedWinsAllTime[seed1-1][seed2-1] +=1"
      ],
      "metadata": {
        "id": "1e6ZVoxmIQvX"
      },
      "execution_count": 28,
      "outputs": []
    },
    {
      "cell_type": "code",
      "source": [
        "for i in range(0,len(df)):\n",
        "  seed1 = int(df['T1_Seed'][i])\n",
        "  seed2 = int(df['T2_Seed'][i])\n",
        "  df['T1_SeedPercent'][i] = (seedWinsAllTime[seed1-1][seed2-1]/(seedWinsAllTime[seed2-1][seed1-1]+seedWinsAllTime[seed1-1][seed2-1]))*100\n",
        "  df['T2_SeedPercent'][i] = (seedWinsAllTime[seed2-1][seed1-1]/(seedWinsAllTime[seed1-1][seed2-1]+seedWinsAllTime[seed2-1][seed1-1]))*100"
      ],
      "metadata": {
        "id": "tG2HCkhXIS-Q"
      },
      "execution_count": 29,
      "outputs": []
    },
    {
      "cell_type": "markdown",
      "source": [
        "Average Regular Season Point Margin for Each team"
      ],
      "metadata": {
        "id": "MovmsHRuIWVw"
      }
    },
    {
      "cell_type": "code",
      "source": [
        "points = []\n",
        "oppPoints = []\n",
        "yearTeam = []\n",
        "games = []\n",
        "for i in range(0,len(MRegularSeasonCompactResults)):\n",
        "  team1Id = MRegularSeasonCompactResults['WTeamID'][i]\n",
        "  season = MRegularSeasonCompactResults['Season'][i]\n",
        "  team2Id = MRegularSeasonCompactResults['LTeamID'][i]\n",
        "\n",
        "  t1 = str(season) + '_' + str(team1Id)\n",
        "  t2 = str(season) + '-' + str(team2Id)\n",
        "\n",
        "  if t1 in yearTeam:\n",
        "    index = yearTeam.index(t1)\n",
        "    points[index] += MRegularSeasonCompactResults['WScore'][i]\n",
        "    games[index] +=1\n",
        "    oppPoints[index] += MRegularSeasonCompactResults['LScore'][i]\n",
        "  else:\n",
        "    points.append(MRegularSeasonCompactResults['WScore'][i])\n",
        "    yearTeam.append(t1)\n",
        "    games.append(1)\n",
        "    oppPoints.append(MRegularSeasonCompactResults['LScore'][i])\n",
        "  \n",
        "  if t2 in yearTeam:\n",
        "    index2 = yearTeam.index(t2)\n",
        "    points[index2] += MRegularSeasonCompactResults['LScore'][i]\n",
        "    games[index2] +=1\n",
        "    oppPoints[index2] += MRegularSeasonCompactResults['WScore'][i]\n",
        "  else:\n",
        "    points.append(MRegularSeasonCompactResults['LScore'][i])\n",
        "    yearTeam.append(t2)\n",
        "    games.append(1)\n",
        "    oppPoints.append(MRegularSeasonCompactResults['WScore'][i])"
      ],
      "metadata": {
        "id": "RHExmhU1IZXR"
      },
      "execution_count": 30,
      "outputs": []
    },
    {
      "cell_type": "code",
      "source": [
        "for i in range(0,len(points)):\n",
        "  points[i] = (points[i] - oppPoints[i])/games[i]\n",
        "\n",
        "for i in range(0,len(df)):\n",
        "  yt1 = str(df['Season'][i]) + '_' + str(df['T1_ID'][i])\n",
        "  index1 = yearTeam.index(yt1)\n",
        "  avgPoints1 = points[index1]\n",
        "\n",
        "  yt2 = str(df['Season'][i]) + '_' + str(df['T2_ID'][i])\n",
        "  index2 = yearTeam.index(yt2)\n",
        "  avgPoints2 = points[index2]\n",
        "\n",
        "  df['T1_PointMargin'][i] = avgPoints1\n",
        "  df['T2_PointMargin'][i] = avgPoints2"
      ],
      "metadata": {
        "id": "cSe9QGM9IbXh"
      },
      "execution_count": 31,
      "outputs": []
    },
    {
      "cell_type": "code",
      "source": [
        "df.head()"
      ],
      "metadata": {
        "colab": {
          "base_uri": "https://localhost:8080/",
          "height": 270
        },
        "id": "d40mL8Nhrb4D",
        "outputId": "57631cd7-3ce1-4f54-82ad-9a4f516d58da"
      },
      "execution_count": 66,
      "outputs": [
        {
          "output_type": "execute_result",
          "data": {
            "text/plain": [
              "   T1_ID  T2_ID  Season  T1_Seed  T2_Seed  T1_PPG  T2_PPG  T1_SeedWinPercent  \\\n",
              "0   1234   1116    1985        8        9      76      68                 42   \n",
              "1   1120   1345    1985       11        6      72      70                 39   \n",
              "2   1250   1207    1985       16        1      74      76                  1   \n",
              "3   1425   1229    1985        8        9      72      74                 42   \n",
              "4   1325   1242    1985       14        3      67      78                 15   \n",
              "\n",
              "   T2_SeedWinPercent  T1_Rank  T2_Rank  T1_RSWinPercent  T2_RSWinPercent  \\\n",
              "0                 38       32       36               20               21   \n",
              "1                 52       44       24               18               17   \n",
              "2                 83       64        4               11               25   \n",
              "3                 38       32       36               19               20   \n",
              "4                 66       56       12               20               23   \n",
              "\n",
              "   T1_PointMargin  T2_PointMargin  T1_SeedPercent  T2_SeedPercent  Winner  \n",
              "0              18              10              49              50       2  \n",
              "1              11              12              37              62       1  \n",
              "2               6              17               1              98       2  \n",
              "3               9              11              49              50       2  \n",
              "4               8              10              15              84       2  "
            ],
            "text/html": [
              "\n",
              "  <div id=\"df-fd17d077-e247-4d22-963a-1dce7293dab8\">\n",
              "    <div class=\"colab-df-container\">\n",
              "      <div>\n",
              "<style scoped>\n",
              "    .dataframe tbody tr th:only-of-type {\n",
              "        vertical-align: middle;\n",
              "    }\n",
              "\n",
              "    .dataframe tbody tr th {\n",
              "        vertical-align: top;\n",
              "    }\n",
              "\n",
              "    .dataframe thead th {\n",
              "        text-align: right;\n",
              "    }\n",
              "</style>\n",
              "<table border=\"1\" class=\"dataframe\">\n",
              "  <thead>\n",
              "    <tr style=\"text-align: right;\">\n",
              "      <th></th>\n",
              "      <th>T1_ID</th>\n",
              "      <th>T2_ID</th>\n",
              "      <th>Season</th>\n",
              "      <th>T1_Seed</th>\n",
              "      <th>T2_Seed</th>\n",
              "      <th>T1_PPG</th>\n",
              "      <th>T2_PPG</th>\n",
              "      <th>T1_SeedWinPercent</th>\n",
              "      <th>T2_SeedWinPercent</th>\n",
              "      <th>T1_Rank</th>\n",
              "      <th>T2_Rank</th>\n",
              "      <th>T1_RSWinPercent</th>\n",
              "      <th>T2_RSWinPercent</th>\n",
              "      <th>T1_PointMargin</th>\n",
              "      <th>T2_PointMargin</th>\n",
              "      <th>T1_SeedPercent</th>\n",
              "      <th>T2_SeedPercent</th>\n",
              "      <th>Winner</th>\n",
              "    </tr>\n",
              "  </thead>\n",
              "  <tbody>\n",
              "    <tr>\n",
              "      <th>0</th>\n",
              "      <td>1234</td>\n",
              "      <td>1116</td>\n",
              "      <td>1985</td>\n",
              "      <td>8</td>\n",
              "      <td>9</td>\n",
              "      <td>76</td>\n",
              "      <td>68</td>\n",
              "      <td>42</td>\n",
              "      <td>38</td>\n",
              "      <td>32</td>\n",
              "      <td>36</td>\n",
              "      <td>20</td>\n",
              "      <td>21</td>\n",
              "      <td>18</td>\n",
              "      <td>10</td>\n",
              "      <td>49</td>\n",
              "      <td>50</td>\n",
              "      <td>2</td>\n",
              "    </tr>\n",
              "    <tr>\n",
              "      <th>1</th>\n",
              "      <td>1120</td>\n",
              "      <td>1345</td>\n",
              "      <td>1985</td>\n",
              "      <td>11</td>\n",
              "      <td>6</td>\n",
              "      <td>72</td>\n",
              "      <td>70</td>\n",
              "      <td>39</td>\n",
              "      <td>52</td>\n",
              "      <td>44</td>\n",
              "      <td>24</td>\n",
              "      <td>18</td>\n",
              "      <td>17</td>\n",
              "      <td>11</td>\n",
              "      <td>12</td>\n",
              "      <td>37</td>\n",
              "      <td>62</td>\n",
              "      <td>1</td>\n",
              "    </tr>\n",
              "    <tr>\n",
              "      <th>2</th>\n",
              "      <td>1250</td>\n",
              "      <td>1207</td>\n",
              "      <td>1985</td>\n",
              "      <td>16</td>\n",
              "      <td>1</td>\n",
              "      <td>74</td>\n",
              "      <td>76</td>\n",
              "      <td>1</td>\n",
              "      <td>83</td>\n",
              "      <td>64</td>\n",
              "      <td>4</td>\n",
              "      <td>11</td>\n",
              "      <td>25</td>\n",
              "      <td>6</td>\n",
              "      <td>17</td>\n",
              "      <td>1</td>\n",
              "      <td>98</td>\n",
              "      <td>2</td>\n",
              "    </tr>\n",
              "    <tr>\n",
              "      <th>3</th>\n",
              "      <td>1425</td>\n",
              "      <td>1229</td>\n",
              "      <td>1985</td>\n",
              "      <td>8</td>\n",
              "      <td>9</td>\n",
              "      <td>72</td>\n",
              "      <td>74</td>\n",
              "      <td>42</td>\n",
              "      <td>38</td>\n",
              "      <td>32</td>\n",
              "      <td>36</td>\n",
              "      <td>19</td>\n",
              "      <td>20</td>\n",
              "      <td>9</td>\n",
              "      <td>11</td>\n",
              "      <td>49</td>\n",
              "      <td>50</td>\n",
              "      <td>2</td>\n",
              "    </tr>\n",
              "    <tr>\n",
              "      <th>4</th>\n",
              "      <td>1325</td>\n",
              "      <td>1242</td>\n",
              "      <td>1985</td>\n",
              "      <td>14</td>\n",
              "      <td>3</td>\n",
              "      <td>67</td>\n",
              "      <td>78</td>\n",
              "      <td>15</td>\n",
              "      <td>66</td>\n",
              "      <td>56</td>\n",
              "      <td>12</td>\n",
              "      <td>20</td>\n",
              "      <td>23</td>\n",
              "      <td>8</td>\n",
              "      <td>10</td>\n",
              "      <td>15</td>\n",
              "      <td>84</td>\n",
              "      <td>2</td>\n",
              "    </tr>\n",
              "  </tbody>\n",
              "</table>\n",
              "</div>\n",
              "      <button class=\"colab-df-convert\" onclick=\"convertToInteractive('df-fd17d077-e247-4d22-963a-1dce7293dab8')\"\n",
              "              title=\"Convert this dataframe to an interactive table.\"\n",
              "              style=\"display:none;\">\n",
              "        \n",
              "  <svg xmlns=\"http://www.w3.org/2000/svg\" height=\"24px\"viewBox=\"0 0 24 24\"\n",
              "       width=\"24px\">\n",
              "    <path d=\"M0 0h24v24H0V0z\" fill=\"none\"/>\n",
              "    <path d=\"M18.56 5.44l.94 2.06.94-2.06 2.06-.94-2.06-.94-.94-2.06-.94 2.06-2.06.94zm-11 1L8.5 8.5l.94-2.06 2.06-.94-2.06-.94L8.5 2.5l-.94 2.06-2.06.94zm10 10l.94 2.06.94-2.06 2.06-.94-2.06-.94-.94-2.06-.94 2.06-2.06.94z\"/><path d=\"M17.41 7.96l-1.37-1.37c-.4-.4-.92-.59-1.43-.59-.52 0-1.04.2-1.43.59L10.3 9.45l-7.72 7.72c-.78.78-.78 2.05 0 2.83L4 21.41c.39.39.9.59 1.41.59.51 0 1.02-.2 1.41-.59l7.78-7.78 2.81-2.81c.8-.78.8-2.07 0-2.86zM5.41 20L4 18.59l7.72-7.72 1.47 1.35L5.41 20z\"/>\n",
              "  </svg>\n",
              "      </button>\n",
              "      \n",
              "  <style>\n",
              "    .colab-df-container {\n",
              "      display:flex;\n",
              "      flex-wrap:wrap;\n",
              "      gap: 12px;\n",
              "    }\n",
              "\n",
              "    .colab-df-convert {\n",
              "      background-color: #E8F0FE;\n",
              "      border: none;\n",
              "      border-radius: 50%;\n",
              "      cursor: pointer;\n",
              "      display: none;\n",
              "      fill: #1967D2;\n",
              "      height: 32px;\n",
              "      padding: 0 0 0 0;\n",
              "      width: 32px;\n",
              "    }\n",
              "\n",
              "    .colab-df-convert:hover {\n",
              "      background-color: #E2EBFA;\n",
              "      box-shadow: 0px 1px 2px rgba(60, 64, 67, 0.3), 0px 1px 3px 1px rgba(60, 64, 67, 0.15);\n",
              "      fill: #174EA6;\n",
              "    }\n",
              "\n",
              "    [theme=dark] .colab-df-convert {\n",
              "      background-color: #3B4455;\n",
              "      fill: #D2E3FC;\n",
              "    }\n",
              "\n",
              "    [theme=dark] .colab-df-convert:hover {\n",
              "      background-color: #434B5C;\n",
              "      box-shadow: 0px 1px 3px 1px rgba(0, 0, 0, 0.15);\n",
              "      filter: drop-shadow(0px 1px 2px rgba(0, 0, 0, 0.3));\n",
              "      fill: #FFFFFF;\n",
              "    }\n",
              "  </style>\n",
              "\n",
              "      <script>\n",
              "        const buttonEl =\n",
              "          document.querySelector('#df-fd17d077-e247-4d22-963a-1dce7293dab8 button.colab-df-convert');\n",
              "        buttonEl.style.display =\n",
              "          google.colab.kernel.accessAllowed ? 'block' : 'none';\n",
              "\n",
              "        async function convertToInteractive(key) {\n",
              "          const element = document.querySelector('#df-fd17d077-e247-4d22-963a-1dce7293dab8');\n",
              "          const dataTable =\n",
              "            await google.colab.kernel.invokeFunction('convertToInteractive',\n",
              "                                                     [key], {});\n",
              "          if (!dataTable) return;\n",
              "\n",
              "          const docLinkHtml = 'Like what you see? Visit the ' +\n",
              "            '<a target=\"_blank\" href=https://colab.research.google.com/notebooks/data_table.ipynb>data table notebook</a>'\n",
              "            + ' to learn more about interactive tables.';\n",
              "          element.innerHTML = '';\n",
              "          dataTable['output_type'] = 'display_data';\n",
              "          await google.colab.output.renderOutput(dataTable, element);\n",
              "          const docLink = document.createElement('div');\n",
              "          docLink.innerHTML = docLinkHtml;\n",
              "          element.appendChild(docLink);\n",
              "        }\n",
              "      </script>\n",
              "    </div>\n",
              "  </div>\n",
              "  "
            ]
          },
          "metadata": {},
          "execution_count": 66
        }
      ]
    },
    {
      "cell_type": "markdown",
      "source": [
        "More model testing"
      ],
      "metadata": {
        "id": "aWuKjz0VIeZX"
      }
    },
    {
      "cell_type": "markdown",
      "source": [
        "1: Linear Regression"
      ],
      "metadata": {
        "id": "1OustqDFInlH"
      }
    },
    {
      "cell_type": "code",
      "source": [
        "results = pd.DataFrame(df2['Winner'])\n",
        "x = df2.iloc[: , :-1]\n",
        "\n",
        "length = len(df)\n",
        "test_x = x.iloc[int(length*.8):]\n",
        "test_y = results.iloc[int(length*.8):]\n",
        "train_x = x.iloc[0:int(length*.8)]\n",
        "train_y = results.iloc[0:int(length*.8)]\n",
        "\n",
        "lr = LogisticRegression(random_state=0).fit(train_x, train_y)\n",
        "lr.score(test_x, test_y)"
      ],
      "metadata": {
        "colab": {
          "base_uri": "https://localhost:8080/"
        },
        "id": "2-in8wjQIsTx",
        "outputId": "babcb6f2-692d-40d8-c111-ba68046300af"
      },
      "execution_count": 32,
      "outputs": [
        {
          "output_type": "stream",
          "name": "stderr",
          "text": [
            "/usr/local/lib/python3.7/dist-packages/sklearn/utils/validation.py:993: DataConversionWarning: A column-vector y was passed when a 1d array was expected. Please change the shape of y to (n_samples, ), for example using ravel().\n",
            "  y = column_or_1d(y, warn=True)\n",
            "/usr/local/lib/python3.7/dist-packages/sklearn/linear_model/_logistic.py:818: ConvergenceWarning: lbfgs failed to converge (status=1):\n",
            "STOP: TOTAL NO. of ITERATIONS REACHED LIMIT.\n",
            "\n",
            "Increase the number of iterations (max_iter) or scale the data as shown in:\n",
            "    https://scikit-learn.org/stable/modules/preprocessing.html\n",
            "Please also refer to the documentation for alternative solver options:\n",
            "    https://scikit-learn.org/stable/modules/linear_model.html#logistic-regression\n",
            "  extra_warning_msg=_LOGISTIC_SOLVER_CONVERGENCE_MSG,\n"
          ]
        },
        {
          "output_type": "execute_result",
          "data": {
            "text/plain": [
              "0.7219827586206896"
            ]
          },
          "metadata": {},
          "execution_count": 32
        }
      ]
    },
    {
      "cell_type": "markdown",
      "source": [
        "2: Random Forest"
      ],
      "metadata": {
        "id": "WyciQqQuIsbD"
      }
    },
    {
      "cell_type": "code",
      "source": [
        "from sklearn.ensemble import RandomForestClassifier\n",
        "model= RandomForestClassifier()\n",
        "model = model.fit(train_x, train_y)\n",
        "model.score(test_x, test_y)"
      ],
      "metadata": {
        "colab": {
          "base_uri": "https://localhost:8080/"
        },
        "id": "7ylnC1mlIwBn",
        "outputId": "67cb634b-9962-4637-dfa1-377b24ed46cd"
      },
      "execution_count": 33,
      "outputs": [
        {
          "output_type": "stream",
          "name": "stderr",
          "text": [
            "/usr/local/lib/python3.7/dist-packages/ipykernel_launcher.py:3: DataConversionWarning: A column-vector y was passed when a 1d array was expected. Please change the shape of y to (n_samples,), for example using ravel().\n",
            "  This is separate from the ipykernel package so we can avoid doing imports until\n"
          ]
        },
        {
          "output_type": "execute_result",
          "data": {
            "text/plain": [
              "0.7198275862068966"
            ]
          },
          "metadata": {},
          "execution_count": 33
        }
      ]
    },
    {
      "cell_type": "markdown",
      "source": [
        "3: K Means"
      ],
      "metadata": {
        "id": "iIi73JXQIwIg"
      }
    },
    {
      "cell_type": "code",
      "source": [
        "from sklearn.cluster import KMeans\n",
        "kmeans = KMeans(n_clusters=2)\n",
        "\n",
        "results = pd.DataFrame(df2['Winner'])\n",
        "df2 = df\n",
        "x = df2.iloc[: , :-1]\n",
        "\n",
        "kmeans.fit(x)\n",
        "totalRightKMeans = 0\n",
        "totalKMeans = 0\n",
        "for i in range(0,len(kmeans.labels_)):\n",
        "  if kmeans.labels_[i] == results['Winner'][i]:\n",
        "    totalRightKMeans +=1\n",
        "  totalKMeans +=1\n",
        "print(totalRightKMeans/totalKMeans)"
      ],
      "metadata": {
        "colab": {
          "base_uri": "https://localhost:8080/"
        },
        "id": "t9SPLweVIxDu",
        "outputId": "93be1f5e-192d-406b-9256-00974bf49ee0"
      },
      "execution_count": 34,
      "outputs": [
        {
          "output_type": "stream",
          "name": "stdout",
          "text": [
            "0.28657747086750107\n"
          ]
        }
      ]
    },
    {
      "cell_type": "markdown",
      "source": [
        "4: Naive Bayes"
      ],
      "metadata": {
        "id": "8OB0gwxrIxLH"
      }
    },
    {
      "cell_type": "code",
      "source": [
        "from sklearn.naive_bayes import GaussianNB\n",
        "gnb = GaussianNB()\n",
        "\n",
        "results = pd.DataFrame(df2['Winner'])\n",
        "x = df2.iloc[: , :-1]\n",
        "\n",
        "length = len(df)\n",
        "test_x = x.iloc[int(length*.8):]\n",
        "test_y = results.iloc[int(length*.8):]\n",
        "train_x = x.iloc[0:int(length*.8)]\n",
        "train_y = results.iloc[0:int(length*.8)]\n",
        "\n",
        "pred_y = gnb.fit(train_x, train_y).predict(test_x)\n",
        "\n",
        "naiveBayesTotal = 0\n",
        "naiveBayesRight = 0\n",
        "\n",
        "for i in range(0,len(pred_y)):\n",
        "  if pred_y[i] == results['Winner'][i]:\n",
        "    naiveBayesRight +=1\n",
        "  naiveBayesTotal +=1\n",
        "\n",
        "print(naiveBayesRight/naiveBayesTotal)"
      ],
      "metadata": {
        "colab": {
          "base_uri": "https://localhost:8080/"
        },
        "id": "RvmLlIinIzRX",
        "outputId": "af2a4927-ffea-477c-b44e-c4a64f73b254"
      },
      "execution_count": 35,
      "outputs": [
        {
          "output_type": "stream",
          "name": "stdout",
          "text": [
            "0.521551724137931\n"
          ]
        },
        {
          "output_type": "stream",
          "name": "stderr",
          "text": [
            "/usr/local/lib/python3.7/dist-packages/sklearn/utils/validation.py:993: DataConversionWarning: A column-vector y was passed when a 1d array was expected. Please change the shape of y to (n_samples, ), for example using ravel().\n",
            "  y = column_or_1d(y, warn=True)\n"
          ]
        }
      ]
    },
    {
      "cell_type": "code",
      "source": [
        "lrAccuracies = [51.5,70.4,70.7,74.6]\n",
        "features = [0,4,6,12]\n",
        "import matplotlib.pyplot as plt\n",
        "\n",
        "plt.plot(features, lrAccuracies)\n",
        "plt.xlabel(\"# of features\")\n",
        "plt.ylabel(\"logistic regression accuracy\")"
      ],
      "metadata": {
        "colab": {
          "base_uri": "https://localhost:8080/",
          "height": 296
        },
        "id": "aWNzjSvoikwZ",
        "outputId": "3d116ed3-9078-4329-f5e9-92b20f1cbbaa"
      },
      "execution_count": 36,
      "outputs": [
        {
          "output_type": "execute_result",
          "data": {
            "text/plain": [
              "Text(0, 0.5, 'logistic regression accuracy')"
            ]
          },
          "metadata": {},
          "execution_count": 36
        },
        {
          "output_type": "display_data",
          "data": {
            "text/plain": [
              "<Figure size 432x288 with 1 Axes>"
            ],
            "image/png": "[encoded data removed]"
          },
          "metadata": {
            "needs_background": "light"
          }
        }
      ]
    },
    {
      "cell_type": "code",
      "source": [
        "accuracy1 = [74.5, 74.5, 69.5, 29.0, 48.0]\n",
        "accuracy2 = [74.5, 74.5, 69.5, 29.0]\n",
        "accuracy3 = [74.5, 74.5, 69.5]\n",
        "accuracy4 = [74.5, 74.5]\n",
        "plt.plot(accuracy1)\n",
        "plt.plot(accuracy2)\n",
        "plt.plot(accuracy3)\n",
        "plt.plot(accuracy4)\n",
        "plt.legend([\"Naive Bayes\", \"K Means\", \"Random Forest\", \"Logistic Regression\"], loc =\"upper right\")"
      ],
      "metadata": {
        "colab": {
          "base_uri": "https://localhost:8080/",
          "height": 282
        },
        "id": "S6beJZAtjzar",
        "outputId": "e1bd9eaf-d425-4f6e-bda8-0e8ff17e4afd"
      },
      "execution_count": 37,
      "outputs": [
        {
          "output_type": "execute_result",
          "data": {
            "text/plain": [
              "<matplotlib.legend.Legend at 0x7f1786f28e10>"
            ]
          },
          "metadata": {},
          "execution_count": 37
        },
        {
          "output_type": "display_data",
          "data": {
            "text/plain": [
              "<Figure size 432x288 with 1 Axes>"
            ],
            "image/png": "[encoded data removed]"
          },
          "metadata": {
            "needs_background": "light"
          }
        }
      ]
    },
    {
      "cell_type": "markdown",
      "source": [
        "DATA PREPROCESSING BELOW"
      ],
      "metadata": {
        "id": "EpsDNCWnfJsP"
      }
    },
    {
      "cell_type": "markdown",
      "source": [
        "Teams that have visited the tournament most - experience, strong programs"
      ],
      "metadata": {
        "id": "cRUyduobfhIG"
      }
    },
    {
      "cell_type": "code",
      "source": [
        "mostVisits = []\n",
        "mostVisitsTeams = []\n",
        "for i in range(0,len(MNCAATourneySeeds)):\n",
        "  if MNCAATourneySeeds['TeamID'][i] in mostVisitsTeams:\n",
        "    index = mostVisitsTeams.index(MNCAATourneySeeds['TeamID'][i])\n",
        "    mostVisits[index] += 1\n",
        "  else:\n",
        "    mostVisitsTeams.append(MNCAATourneySeeds['TeamID'][i])\n",
        "    mostVisits.append(1)\n",
        "\n",
        "mostVisitsDF = pd.DataFrame(mostVisits, mostVisitsTeams)\n",
        "\n",
        "mostVisitsNames = mostVisitsTeams\n",
        "teamList = list(MTeams['TeamID'])\n",
        "for x in range(0,len(mostVisits)):\n",
        "  if (mostVisitsTeams[x] in teamList):\n",
        "    mostVisitsNames[x] = MTeams['TeamName'][teamList.index(mostVisitsTeams[x])]\n",
        "mostVisitsDF2 = pd.DataFrame(mostVisits, mostVisitsNames)\n",
        "mostVisitsDF2.nlargest(10, 0)"
      ],
      "metadata": {
        "colab": {
          "base_uri": "https://localhost:8080/",
          "height": 363
        },
        "id": "NcGYAZcAfLOX",
        "outputId": "ef9d6d33-d764-457b-c3f3-7ff3d131db85"
      },
      "execution_count": 38,
      "outputs": [
        {
          "output_type": "execute_result",
          "data": {
            "text/plain": [
              "                 0\n",
              "Kansas          35\n",
              "Duke            34\n",
              "North Carolina  33\n",
              "Arizona         32\n",
              "Kentucky        30\n",
              "Michigan St     30\n",
              "Syracuse        29\n",
              "Oklahoma        27\n",
              "Purdue          27\n",
              "UCLA            27"
            ],
            "text/html": [
              "\n",
              "  <div id=\"df-e934bb21-2694-4216-970a-815daaf792f8\">\n",
              "    <div class=\"colab-df-container\">\n",
              "      <div>\n",
              "<style scoped>\n",
              "    .dataframe tbody tr th:only-of-type {\n",
              "        vertical-align: middle;\n",
              "    }\n",
              "\n",
              "    .dataframe tbody tr th {\n",
              "        vertical-align: top;\n",
              "    }\n",
              "\n",
              "    .dataframe thead th {\n",
              "        text-align: right;\n",
              "    }\n",
              "</style>\n",
              "<table border=\"1\" class=\"dataframe\">\n",
              "  <thead>\n",
              "    <tr style=\"text-align: right;\">\n",
              "      <th></th>\n",
              "      <th>0</th>\n",
              "    </tr>\n",
              "  </thead>\n",
              "  <tbody>\n",
              "    <tr>\n",
              "      <th>Kansas</th>\n",
              "      <td>35</td>\n",
              "    </tr>\n",
              "    <tr>\n",
              "      <th>Duke</th>\n",
              "      <td>34</td>\n",
              "    </tr>\n",
              "    <tr>\n",
              "      <th>North Carolina</th>\n",
              "      <td>33</td>\n",
              "    </tr>\n",
              "    <tr>\n",
              "      <th>Arizona</th>\n",
              "      <td>32</td>\n",
              "    </tr>\n",
              "    <tr>\n",
              "      <th>Kentucky</th>\n",
              "      <td>30</td>\n",
              "    </tr>\n",
              "    <tr>\n",
              "      <th>Michigan St</th>\n",
              "      <td>30</td>\n",
              "    </tr>\n",
              "    <tr>\n",
              "      <th>Syracuse</th>\n",
              "      <td>29</td>\n",
              "    </tr>\n",
              "    <tr>\n",
              "      <th>Oklahoma</th>\n",
              "      <td>27</td>\n",
              "    </tr>\n",
              "    <tr>\n",
              "      <th>Purdue</th>\n",
              "      <td>27</td>\n",
              "    </tr>\n",
              "    <tr>\n",
              "      <th>UCLA</th>\n",
              "      <td>27</td>\n",
              "    </tr>\n",
              "  </tbody>\n",
              "</table>\n",
              "</div>\n",
              "      <button class=\"colab-df-convert\" onclick=\"convertToInteractive('df-e934bb21-2694-4216-970a-815daaf792f8')\"\n",
              "              title=\"Convert this dataframe to an interactive table.\"\n",
              "              style=\"display:none;\">\n",
              "        \n",
              "  <svg xmlns=\"http://www.w3.org/2000/svg\" height=\"24px\"viewBox=\"0 0 24 24\"\n",
              "       width=\"24px\">\n",
              "    <path d=\"M0 0h24v24H0V0z\" fill=\"none\"/>\n",
              "    <path d=\"M18.56 5.44l.94 2.06.94-2.06 2.06-.94-2.06-.94-.94-2.06-.94 2.06-2.06.94zm-11 1L8.5 8.5l.94-2.06 2.06-.94-2.06-.94L8.5 2.5l-.94 2.06-2.06.94zm10 10l.94 2.06.94-2.06 2.06-.94-2.06-.94-.94-2.06-.94 2.06-2.06.94z\"/><path d=\"M17.41 7.96l-1.37-1.37c-.4-.4-.92-.59-1.43-.59-.52 0-1.04.2-1.43.59L10.3 9.45l-7.72 7.72c-.78.78-.78 2.05 0 2.83L4 21.41c.39.39.9.59 1.41.59.51 0 1.02-.2 1.41-.59l7.78-7.78 2.81-2.81c.8-.78.8-2.07 0-2.86zM5.41 20L4 18.59l7.72-7.72 1.47 1.35L5.41 20z\"/>\n",
              "  </svg>\n",
              "      </button>\n",
              "      \n",
              "  <style>\n",
              "    .colab-df-container {\n",
              "      display:flex;\n",
              "      flex-wrap:wrap;\n",
              "      gap: 12px;\n",
              "    }\n",
              "\n",
              "    .colab-df-convert {\n",
              "      background-color: #E8F0FE;\n",
              "      border: none;\n",
              "      border-radius: 50%;\n",
              "      cursor: pointer;\n",
              "      display: none;\n",
              "      fill: #1967D2;\n",
              "      height: 32px;\n",
              "      padding: 0 0 0 0;\n",
              "      width: 32px;\n",
              "    }\n",
              "\n",
              "    .colab-df-convert:hover {\n",
              "      background-color: #E2EBFA;\n",
              "      box-shadow: 0px 1px 2px rgba(60, 64, 67, 0.3), 0px 1px 3px 1px rgba(60, 64, 67, 0.15);\n",
              "      fill: #174EA6;\n",
              "    }\n",
              "\n",
              "    [theme=dark] .colab-df-convert {\n",
              "      background-color: #3B4455;\n",
              "      fill: #D2E3FC;\n",
              "    }\n",
              "\n",
              "    [theme=dark] .colab-df-convert:hover {\n",
              "      background-color: #434B5C;\n",
              "      box-shadow: 0px 1px 3px 1px rgba(0, 0, 0, 0.15);\n",
              "      filter: drop-shadow(0px 1px 2px rgba(0, 0, 0, 0.3));\n",
              "      fill: #FFFFFF;\n",
              "    }\n",
              "  </style>\n",
              "\n",
              "      <script>\n",
              "        const buttonEl =\n",
              "          document.querySelector('#df-e934bb21-2694-4216-970a-815daaf792f8 button.colab-df-convert');\n",
              "        buttonEl.style.display =\n",
              "          google.colab.kernel.accessAllowed ? 'block' : 'none';\n",
              "\n",
              "        async function convertToInteractive(key) {\n",
              "          const element = document.querySelector('#df-e934bb21-2694-4216-970a-815daaf792f8');\n",
              "          const dataTable =\n",
              "            await google.colab.kernel.invokeFunction('convertToInteractive',\n",
              "                                                     [key], {});\n",
              "          if (!dataTable) return;\n",
              "\n",
              "          const docLinkHtml = 'Like what you see? Visit the ' +\n",
              "            '<a target=\"_blank\" href=https://colab.research.google.com/notebooks/data_table.ipynb>data table notebook</a>'\n",
              "            + ' to learn more about interactive tables.';\n",
              "          element.innerHTML = '';\n",
              "          dataTable['output_type'] = 'display_data';\n",
              "          await google.colab.output.renderOutput(dataTable, element);\n",
              "          const docLink = document.createElement('div');\n",
              "          docLink.innerHTML = docLinkHtml;\n",
              "          element.appendChild(docLink);\n",
              "        }\n",
              "      </script>\n",
              "    </div>\n",
              "  </div>\n",
              "  "
            ]
          },
          "metadata": {},
          "execution_count": 38
        }
      ]
    },
    {
      "cell_type": "markdown",
      "source": [
        "Total wins of each seed in history including play-in games (11 and 16 seeds are higher because of this)"
      ],
      "metadata": {
        "id": "ambUjOh-fsII"
      }
    },
    {
      "cell_type": "code",
      "source": [
        "#length is 2317\n",
        "seeds = [1,2,3,4,5,6,7,8,9,10,11,12,13,14,15,16]\n",
        "seedWins = [0,0,0,0,0,0,0,0,0,0,0,0,0,0,0,0]\n",
        "for i in range(0,2317):\n",
        "  currentTeam = MNCAATourneyCompactResults['WTeamID'][i]\n",
        "  found = False\n",
        "  seedIndex = 0\n",
        "  #length is 2354\n",
        "  while found == False:\n",
        "    if MNCAATourneySeeds['Season'][seedIndex] == MNCAATourneyCompactResults['Season'][i] and MNCAATourneySeeds['TeamID'][seedIndex] == MNCAATourneyCompactResults['WTeamID'][i]:\n",
        "      thisSeed = MNCAATourneySeeds['Seed'][seedIndex]\n",
        "      thisSeed = int(thisSeed[1:3])\n",
        "      seedWins[thisSeed-1] += 1\n",
        "      found = True\n",
        "    else:\n",
        "      seedIndex+=1\n",
        "seedWins"
      ],
      "metadata": {
        "colab": {
          "base_uri": "https://localhost:8080/"
        },
        "id": "LZ-a4HJIfunh",
        "outputId": "21d54e58-a3bf-4451-e5ee-62f5fc95ce9b"
      },
      "execution_count": 39,
      "outputs": [
        {
          "output_type": "execute_result",
          "data": {
            "text/plain": [
              "[484, 339, 266, 218, 161, 154, 129, 102, 85, 89, 107, 78, 38, 25, 11, 31]"
            ]
          },
          "metadata": {},
          "execution_count": 39
        }
      ]
    },
    {
      "cell_type": "markdown",
      "source": [
        "How certain seeds do against each other"
      ],
      "metadata": {
        "id": "DLXjf8cUf29v"
      }
    },
    {
      "cell_type": "code",
      "source": [
        "#length is 2317\n",
        "import numpy as np\n",
        "matchupMatrix = np.zeros((16,16))\n",
        "for i in range(0,2317):\n",
        "  winningTeam = MNCAATourneyCompactResults['WTeamID'][i]\n",
        "  losingTeam = MNCAATourneyCompactResults['LTeamID'][i]\n",
        "  foundWin = False\n",
        "  foundLoss = False\n",
        "  seedIndex1 = 0\n",
        "  seedIndex2 = 0\n",
        "  #length is 2354\n",
        "\n",
        "  while foundWin == False:\n",
        "    if MNCAATourneySeeds['Season'][seedIndex1] == MNCAATourneyCompactResults['Season'][i] and MNCAATourneySeeds['TeamID'][seedIndex1] == winningTeam:\n",
        "      foundWin = True\n",
        "      winSeed = MNCAATourneySeeds['Seed'][seedIndex1]\n",
        "      winSeed = int(winSeed[1:3])\n",
        "      while foundLoss == False:\n",
        "        if MNCAATourneySeeds['Season'][seedIndex2] == MNCAATourneyCompactResults['Season'][i] and MNCAATourneySeeds['TeamID'][seedIndex2] == losingTeam:\n",
        "          foundLoss = True\n",
        "          lossSeed = MNCAATourneySeeds['Seed'][seedIndex2]\n",
        "          lossSeed = int(lossSeed[1:3])\n",
        "          if lossSeed != winSeed:\n",
        "            matchupMatrix[winSeed-1][lossSeed-1] +=1\n",
        "\n",
        "          seedIndex1 = 0\n",
        "          seedIndex2 = 0\n",
        "        else:\n",
        "          seedIndex2+=1\n",
        "    else:\n",
        "      seedIndex1+=1\n",
        "import matplotlib.pyplot as plt\n",
        "plt.imshow(matchupMatrix)\n",
        "plt.colorbar()\n",
        "plt.show()"
      ],
      "metadata": {
        "colab": {
          "base_uri": "https://localhost:8080/",
          "height": 265
        },
        "id": "icGjkFtkf5Rq",
        "outputId": "37ebf825-c54f-4999-a341-8eb91edbde8d"
      },
      "execution_count": 40,
      "outputs": [
        {
          "output_type": "display_data",
          "data": {
            "text/plain": [
              "<Figure size 432x288 with 2 Axes>"
            ],
            "image/png": "[encoded data removed]"
          },
          "metadata": {
            "needs_background": "light"
          }
        }
      ]
    },
    {
      "cell_type": "code",
      "source": [
        "matchupMatrix2 = np.zeros((16,16))\n",
        "for i in range(0,16):\n",
        "  for j in range(i+1,16):\n",
        "    matchupMatrix2[i][j] = matchupMatrix[i][j]/(matchupMatrix[i][j]+matchupMatrix[j][i])\n",
        "\n",
        "plt.imshow(matchupMatrix2)\n",
        "plt.colorbar()\n",
        "plt.show()"
      ],
      "metadata": {
        "colab": {
          "base_uri": "https://localhost:8080/",
          "height": 304
        },
        "id": "Un1wi3ONgCt4",
        "outputId": "a30747ea-e2d5-463c-fa9f-2daf3f46ec28"
      },
      "execution_count": 41,
      "outputs": [
        {
          "output_type": "stream",
          "name": "stderr",
          "text": [
            "/usr/local/lib/python3.7/dist-packages/ipykernel_launcher.py:4: RuntimeWarning: invalid value encountered in double_scalars\n",
            "  after removing the cwd from sys.path.\n"
          ]
        },
        {
          "output_type": "display_data",
          "data": {
            "text/plain": [
              "<Figure size 432x288 with 2 Axes>"
            ],
            "image/png": "[encoded data removed]"
          },
          "metadata": {
            "needs_background": "light"
          }
        }
      ]
    },
    {
      "cell_type": "markdown",
      "source": [
        "Average winning scores in tournament"
      ],
      "metadata": {
        "id": "H8YaqIX_f_9n"
      }
    },
    {
      "cell_type": "code",
      "source": [
        "averageWinning = 0\n",
        "averageLosing = 0\n",
        "\n",
        "for i in range(0,2317):\n",
        "  averageWinning += MNCAATourneyCompactResults['WScore'][i]\n",
        "  averageLosing += MNCAATourneyCompactResults['LScore'][i]\n",
        "\n",
        "averageWinning /=2317\n",
        "averageLosing /=2317\n",
        "print(\"Average Winning Score in Tournament: \", averageWinning)\n",
        "print(\"Average Losing Score in Tournament: \", averageLosing)"
      ],
      "metadata": {
        "colab": {
          "base_uri": "https://localhost:8080/"
        },
        "id": "iGOHquingHmX",
        "outputId": "fb08bee6-00cc-4874-a5f6-bf9e91e8a142"
      },
      "execution_count": 42,
      "outputs": [
        {
          "output_type": "stream",
          "name": "stdout",
          "text": [
            "Average Winning Score in Tournament:  76.89123867069486\n",
            "Average Losing Score in Tournament:  65.168321104877\n"
          ]
        }
      ]
    },
    {
      "cell_type": "markdown",
      "source": [
        "Regular season scores"
      ],
      "metadata": {
        "id": "qPCJvWSLgMnn"
      }
    },
    {
      "cell_type": "code",
      "source": [
        "averageWinningRS = 0\n",
        "averageLosingRS = 0\n",
        "\n",
        "for i in range(0,174471):\n",
        "  averageWinningRS += MRegularSeasonCompactResults['WScore'][i]\n",
        "  averageLosingRS += MRegularSeasonCompactResults['LScore'][i]\n",
        "\n",
        "averageWinningRS /=174471\n",
        "averageLosingRS /=174471\n",
        "print(\"Average Winning Score in Regular season: \", averageWinningRS)\n",
        "print(\"Average Losing Score in Regular season: \", averageLosingRS)"
      ],
      "metadata": {
        "colab": {
          "base_uri": "https://localhost:8080/"
        },
        "id": "AQ4FzF0mgMtb",
        "outputId": "e995264f-797b-44ae-8910-7698e61ca19d"
      },
      "execution_count": 43,
      "outputs": [
        {
          "output_type": "stream",
          "name": "stdout",
          "text": [
            "Average Winning Score in Regular season:  76.76297493566265\n",
            "Average Losing Score in Regular season:  64.66357732803732\n"
          ]
        }
      ]
    },
    {
      "cell_type": "markdown",
      "source": [
        "Championship wins for each seed"
      ],
      "metadata": {
        "id": "HrlhPz76gTzO"
      }
    },
    {
      "cell_type": "code",
      "source": [
        "championshipWins = [0,0,0,0,0,0,0,0,0,0,0,0,0,0,0,0]\n",
        "championshipLosses = [0,0,0,0,0,0,0,0,0,0,0,0,0,0,0,0]\n",
        "\n",
        "for i in range(0,2317):\n",
        "  if MNCAATourneyCompactResults['DayNum'][i] == 154:\n",
        "    finalWinner = MNCAATourneyCompactResults['WTeamID'][i]\n",
        "    index = 0\n",
        "    found = False\n",
        "    while found == False:\n",
        "      if MNCAATourneySeeds['Season'][index] == MNCAATourneyCompactResults['Season'][i] and MNCAATourneySeeds['TeamID'][index] == finalWinner:\n",
        "        seed = MNCAATourneySeeds['Seed'][index]\n",
        "        seed = int(seed[1:3])\n",
        "        championshipWins[seed-1] +=1\n",
        "        found = True\n",
        "      else:\n",
        "        index +=1\n",
        "    finalLoser = MNCAATourneyCompactResults['LTeamID'][i]\n",
        "    index = 0\n",
        "    found = False\n",
        "    while found == False:\n",
        "      if MNCAATourneySeeds['Season'][index] == MNCAATourneyCompactResults['Season'][i] and MNCAATourneySeeds['TeamID'][index] == finalLoser:\n",
        "        seed = MNCAATourneySeeds['Seed'][index]\n",
        "        seed = int(seed[1:3])\n",
        "        championshipLosses[seed-1] +=1\n",
        "        found = True\n",
        "      else:\n",
        "        index +=1"
      ],
      "metadata": {
        "id": "1GlXc-d6gVis"
      },
      "execution_count": 44,
      "outputs": []
    },
    {
      "cell_type": "code",
      "source": [
        "championshipWins"
      ],
      "metadata": {
        "colab": {
          "base_uri": "https://localhost:8080/"
        },
        "id": "hodzAUHCgXeo",
        "outputId": "859b0369-a48c-4d1f-c99e-4366b8d6dcb9"
      },
      "execution_count": 45,
      "outputs": [
        {
          "output_type": "execute_result",
          "data": {
            "text/plain": [
              "[23, 5, 4, 1, 0, 1, 1, 1, 0, 0, 0, 0, 0, 0, 0, 0]"
            ]
          },
          "metadata": {},
          "execution_count": 45
        }
      ]
    },
    {
      "cell_type": "code",
      "source": [
        "championshipLosses"
      ],
      "metadata": {
        "colab": {
          "base_uri": "https://localhost:8080/"
        },
        "id": "t-64XhevgZUH",
        "outputId": "b4082032-14a9-4852-b0d3-6ca23809738e"
      },
      "execution_count": 46,
      "outputs": [
        {
          "output_type": "execute_result",
          "data": {
            "text/plain": [
              "[13, 8, 7, 2, 3, 1, 0, 2, 0, 0, 0, 0, 0, 0, 0, 0]"
            ]
          },
          "metadata": {},
          "execution_count": 46
        }
      ]
    },
    {
      "cell_type": "markdown",
      "source": [
        "No 9 seed or worse has ever made it to the championship, so we know that if they make it to the final four, it is more than likely that they will lose. We also notice that when a 1 seed gets to the championship, they have won 23 out of 36 times, which is the best percentage and total out of all except for one 7 seed that is 1-0. If a 1 seed makes it to the final, then there are good odds they will win."
      ],
      "metadata": {
        "id": "qe5jtVp3gc9o"
      }
    },
    {
      "cell_type": "markdown",
      "source": [
        "Elite Eight Appearances"
      ],
      "metadata": {
        "id": "uz3Q-DXJgdkq"
      }
    },
    {
      "cell_type": "code",
      "source": [
        "eewins = [0,0,0,0,0,0,0,0,0,0,0,0,0,0,0,0]\n",
        "eelosses = [0,0,0,0,0,0,0,0,0,0,0,0,0,0,0,0]\n",
        "\n",
        "for i in range(0,2317):\n",
        "  if MNCAATourneyCompactResults['DayNum'][i] == 145 or MNCAATourneyCompactResults['DayNum'][i] == 143:\n",
        "    finalWinner = MNCAATourneyCompactResults['WTeamID'][i]\n",
        "    index = 0\n",
        "    found = False\n",
        "    while found == False:\n",
        "      if MNCAATourneySeeds['Season'][index] == MNCAATourneyCompactResults['Season'][i] and MNCAATourneySeeds['TeamID'][index] == finalWinner:\n",
        "        seed = MNCAATourneySeeds['Seed'][index]\n",
        "        seed = int(seed[1:3])\n",
        "        eewins[seed-1] +=1\n",
        "        found = True\n",
        "      else:\n",
        "        index +=1\n",
        "    finalLoser = MNCAATourneyCompactResults['LTeamID'][i]\n",
        "    index = 0\n",
        "    found = False\n",
        "    while found == False:\n",
        "      if MNCAATourneySeeds['Season'][index] == MNCAATourneyCompactResults['Season'][i] and MNCAATourneySeeds['TeamID'][index] == finalLoser:\n",
        "        seed = MNCAATourneySeeds['Seed'][index]\n",
        "        seed = int(seed[1:3])\n",
        "        eelosses[seed-1] +=1\n",
        "        found = True\n",
        "      else:\n",
        "        index +=1"
      ],
      "metadata": {
        "id": "BryKLP4Ogh7K"
      },
      "execution_count": 47,
      "outputs": []
    },
    {
      "cell_type": "code",
      "source": [
        "eewins"
      ],
      "metadata": {
        "colab": {
          "base_uri": "https://localhost:8080/"
        },
        "id": "bGQc8B_OgjLR",
        "outputId": "93c7d661-3119-41fa-9f0f-26fd20a451ec"
      },
      "execution_count": 48,
      "outputs": [
        {
          "output_type": "execute_result",
          "data": {
            "text/plain": [
              "[76, 56, 35, 13, 6, 5, 2, 6, 4, 3, 6, 2, 0, 0, 0, 0]"
            ]
          },
          "metadata": {},
          "execution_count": 48
        }
      ]
    },
    {
      "cell_type": "code",
      "source": [
        "eelosses"
      ],
      "metadata": {
        "colab": {
          "base_uri": "https://localhost:8080/"
        },
        "id": "hFdA22GwgkI4",
        "outputId": "aceff470-d9da-4a5b-bb9f-8065a87b55c3"
      },
      "execution_count": 49,
      "outputs": [
        {
          "output_type": "execute_result",
          "data": {
            "text/plain": [
              "[37, 34, 28, 31, 22, 21, 9, 5, 2, 7, 7, 7, 3, 0, 1, 0]"
            ]
          },
          "metadata": {},
          "execution_count": 49
        }
      ]
    },
    {
      "cell_type": "markdown",
      "source": [
        "We notice that a 13 seed or worse has never made the final four, they have lost in the elite eight every time. Outside of seeds 1,2,3 every seed has a bad probability of making it to the final four."
      ],
      "metadata": {
        "id": "j1NfFrMiglq_"
      }
    },
    {
      "cell_type": "markdown",
      "source": [
        "Team Rankings using BIH system"
      ],
      "metadata": {
        "id": "PXSaEZLggl-Q"
      }
    },
    {
      "cell_type": "code",
      "source": [
        "#length is 4521720\n",
        "dayNum133MMasseyOrdinalsAP = pd.DataFrame(columns = ['Season', 'RankingDayNum', 'SystemName', 'TeamID', 'OrdinalRank'])\n",
        "for i in range(0,4521720):\n",
        "  if MMasseyOrdinals['RankingDayNum'][i] == 133 and MMasseyOrdinals['SystemName'][i] == \"AP\":\n",
        "    dayNum133MMasseyOrdinalsAP.loc[len(dayNum133MMasseyOrdinalsAP.index)] = [MMasseyOrdinals['Season'][i],MMasseyOrdinals['RankingDayNum'][i],MMasseyOrdinals['SystemName'][i],MMasseyOrdinals['TeamID'][i],MMasseyOrdinals['OrdinalRank'][i]]"
      ],
      "metadata": {
        "id": "1F3wn8-JgtiW"
      },
      "execution_count": 50,
      "outputs": []
    },
    {
      "cell_type": "code",
      "source": [
        "dayNum133MMasseyOrdinalsAP.shape"
      ],
      "metadata": {
        "colab": {
          "base_uri": "https://localhost:8080/"
        },
        "id": "SnfaC9eDgvlw",
        "outputId": "56a7071d-9625-4387-f787-cc076b455067"
      },
      "execution_count": 51,
      "outputs": [
        {
          "output_type": "execute_result",
          "data": {
            "text/plain": [
              "(451, 5)"
            ]
          },
          "metadata": {},
          "execution_count": 51
        }
      ]
    },
    {
      "cell_type": "code",
      "source": [
        "#length is 4521720\n",
        "dayNum133MMasseyOrdinalsBIH = pd.DataFrame(columns = ['Season', 'RankingDayNum', 'SystemName', 'TeamID', 'OrdinalRank'])\n",
        "for i in range(0,4521720):\n",
        "  if MMasseyOrdinals['RankingDayNum'][i] == 133 and MMasseyOrdinals['SystemName'][i] == \"BIH\":\n",
        "    dayNum133MMasseyOrdinalsBIH.loc[len(dayNum133MMasseyOrdinalsBIH.index)] = [MMasseyOrdinals['Season'][i],MMasseyOrdinals['RankingDayNum'][i],MMasseyOrdinals['SystemName'][i],MMasseyOrdinals['TeamID'][i],MMasseyOrdinals['OrdinalRank'][i]]"
      ],
      "metadata": {
        "id": "aHu7elnIgx0o"
      },
      "execution_count": 52,
      "outputs": []
    },
    {
      "cell_type": "code",
      "source": [
        "dayNum133MMasseyOrdinalsBIH.shape"
      ],
      "metadata": {
        "colab": {
          "base_uri": "https://localhost:8080/"
        },
        "id": "N1CPUKfegyzB",
        "outputId": "0f19b2ae-dbc2-4c3b-b470-331d6458743d"
      },
      "execution_count": 53,
      "outputs": [
        {
          "output_type": "execute_result",
          "data": {
            "text/plain": [
              "(5833, 5)"
            ]
          },
          "metadata": {},
          "execution_count": 53
        }
      ]
    },
    {
      "cell_type": "markdown",
      "source": [
        "Here we used BIH because the seeds are outside of just the top 25 which is how it is for the AP rankings. This gives us a more accurate view of all the teams in the tournament. The lowest(worst) ranking we have is 353"
      ],
      "metadata": {
        "id": "8vmuOD93g0mZ"
      }
    },
    {
      "cell_type": "code",
      "source": [
        "dayNum133MMasseyOrdinalsBIH['OrdinalRank'].max()"
      ],
      "metadata": {
        "colab": {
          "base_uri": "https://localhost:8080/"
        },
        "id": "epLHq-fVg2BH",
        "outputId": "015f9de8-5be1-4d35-b495-1afe7a56f62c"
      },
      "execution_count": 54,
      "outputs": [
        {
          "output_type": "execute_result",
          "data": {
            "text/plain": [
              "353"
            ]
          },
          "metadata": {},
          "execution_count": 54
        }
      ]
    },
    {
      "cell_type": "code",
      "source": [
        "dayNum133MMasseyOrdinalsBIH['OrdinalRank'].mean()"
      ],
      "metadata": {
        "colab": {
          "base_uri": "https://localhost:8080/"
        },
        "id": "uelOVJzYg3JI",
        "outputId": "a516f1d8-e9db-478d-95b3-930d1ef249f9"
      },
      "execution_count": 55,
      "outputs": [
        {
          "output_type": "execute_result",
          "data": {
            "text/plain": [
              "172.17229555974626"
            ]
          },
          "metadata": {},
          "execution_count": 55
        }
      ]
    },
    {
      "cell_type": "code",
      "source": [
        "winsByRanking = []\n",
        "for i in range(0,36):\n",
        "  winsByRanking.append(0)"
      ],
      "metadata": {
        "id": "h_CEXcvFg4cD"
      },
      "execution_count": 56,
      "outputs": []
    },
    {
      "cell_type": "code",
      "source": [
        "for i in range(0,1181):\n",
        "  tourneyGameWin = MNCAATourneyDetailedResults['WTeamID'][i]\n",
        "  found = False\n",
        "  index = 0\n",
        "  while found == False:\n",
        "    if dayNum133MMasseyOrdinalsBIH['TeamID'][index] == tourneyGameWin and dayNum133MMasseyOrdinalsBIH['Season'][index] == MNCAATourneyDetailedResults['Season'][i]:\n",
        "      found = True\n",
        "    else:\n",
        "      index +=1\n",
        "      if index >=5833:\n",
        "        found = True\n",
        "  if index < 5833:\n",
        "    winsByRanking[int(dayNum133MMasseyOrdinalsBIH['OrdinalRank'][index]/10)] +=1"
      ],
      "metadata": {
        "id": "ylXJb4Vtg5zL"
      },
      "execution_count": 57,
      "outputs": []
    },
    {
      "cell_type": "markdown",
      "source": [
        "Wins by ranking (Bin size of 10)"
      ],
      "metadata": {
        "id": "EcGoy-YIg-PG"
      }
    },
    {
      "cell_type": "code",
      "source": [
        "print(winsByRanking)"
      ],
      "metadata": {
        "colab": {
          "base_uri": "https://localhost:8080/"
        },
        "id": "k0ChyOM-hANY",
        "outputId": "2fac4306-d450-4208-8b57-f1e062ed582d"
      },
      "execution_count": 58,
      "outputs": [
        {
          "output_type": "stream",
          "name": "stdout",
          "text": [
            "[411, 255, 148, 101, 93, 40, 19, 3, 4, 6, 2, 2, 1, 2, 3, 1, 4, 3, 3, 7, 1, 1, 2, 0, 1, 2, 0, 2, 0, 0, 0, 0, 0, 0, 0, 0]\n"
          ]
        }
      ]
    },
    {
      "cell_type": "markdown",
      "source": [
        "We can see that no seed ranked above 280 has ever won a tournament game, and only 9 teams ranked above 200 have ever won a tournament game. If a team above 200 is in the tournament, it is very unlikely they will win a game. From teams 70-199, only 41 of them have won a tournament game. The rankings we are using are from the system \"BIH\" and are from day number 133 which is the last day that rankings are made."
      ],
      "metadata": {
        "id": "SOSNEZxDhBon"
      }
    },
    {
      "cell_type": "markdown",
      "source": [
        "Reasons why 15 seeds might upset a 2 seed"
      ],
      "metadata": {
        "id": "rAXpJS3_hIeI"
      }
    },
    {
      "cell_type": "code",
      "source": [
        "tourneySize = len(MNCAATourneyCompactResults['Season'])\n",
        "\n",
        "wins2Names = []\n",
        "losses2Names = []\n",
        "wins15Names = []\n",
        "losses15Names = []\n",
        "wins2Year = []\n",
        "losses2Year = []\n",
        "wins15Year = []\n",
        "losses15Year = []\n",
        "\n",
        "for i in range(0, tourneySize):\n",
        "  winner = MNCAATourneyCompactResults['WTeamID'][i]\n",
        "  loser = MNCAATourneyCompactResults['LTeamID'][i]\n",
        "  foundWin = False\n",
        "  seedIndex = 0\n",
        "  winseed = 0\n",
        "  lossseed = 0\n",
        "  while foundWin == False: \n",
        "    if MNCAATourneySeeds['Season'][seedIndex] == MNCAATourneyCompactResults['Season'][i] and MNCAATourneySeeds['TeamID'][seedIndex] == MNCAATourneyCompactResults['WTeamID'][i]:\n",
        "        winseed = MNCAATourneySeeds['Seed'][seedIndex]\n",
        "        winseed = int(winseed[1:3])\n",
        "        foundWin = True\n",
        "    else:\n",
        "      seedIndex +=1\n",
        "  \n",
        "  foundLoss = False\n",
        "  seedIndex2 = 0\n",
        "  while foundLoss == False: \n",
        "    if MNCAATourneySeeds['Season'][seedIndex2] == MNCAATourneyCompactResults['Season'][i] and MNCAATourneySeeds['TeamID'][seedIndex2] == MNCAATourneyCompactResults['LTeamID'][i]:\n",
        "        lossseed = MNCAATourneySeeds['Seed'][seedIndex2]\n",
        "        lossseed = int(lossseed[1:3])\n",
        "        foundLoss = True\n",
        "    else:\n",
        "      seedIndex2 +=1\n",
        "  if lossseed == 15 and winseed == 2:\n",
        "    wins2Names.append(MNCAATourneySeeds['TeamID'][seedIndex])\n",
        "    wins2Year.append(MNCAATourneySeeds['Season'][seedIndex])\n",
        "    losses15Names.append(MNCAATourneySeeds['TeamID'][seedIndex2])\n",
        "    losses15Year.append(MNCAATourneySeeds['Season'][seedIndex2])\n",
        "  if lossseed == 2 and winseed == 15:\n",
        "    wins15Names.append(MNCAATourneySeeds['TeamID'][seedIndex])\n",
        "    wins15Year.append(MNCAATourneySeeds['Season'][seedIndex])\n",
        "    losses2Names.append(MNCAATourneySeeds['TeamID'][seedIndex2])\n",
        "    losses2Year.append(MNCAATourneySeeds['Season'][seedIndex2])"
      ],
      "metadata": {
        "id": "TNqYIrn8hLai"
      },
      "execution_count": 59,
      "outputs": []
    },
    {
      "cell_type": "code",
      "source": [
        "wins15Names"
      ],
      "metadata": {
        "colab": {
          "base_uri": "https://localhost:8080/"
        },
        "id": "I6dqxuT2hMzW",
        "outputId": "b0c96da1-61e7-4e6e-c094-8fe337061d66"
      },
      "execution_count": 60,
      "outputs": [
        {
          "output_type": "execute_result",
          "data": {
            "text/plain": [
              "[1350, 1365, 1164, 1214, 1250, 1313, 1195, 1292, 1331]"
            ]
          },
          "metadata": {},
          "execution_count": 60
        }
      ]
    },
    {
      "cell_type": "code",
      "source": [
        "wins15Wins = [0,0,0,0,0,0,0,0,0]\n",
        "wins15Losses = [0,0,0,0,0,0,0,0,0]\n",
        "\n",
        "for i in range(0,len(wins15Names)):\n",
        "  for x in range(0,len(MRegularSeasonCompactResults['Season'])):\n",
        "    if MRegularSeasonCompactResults['WTeamID'][x] == wins15Names[i] and MRegularSeasonCompactResults['Season'][x] == wins15Year[i] and MRegularSeasonCompactResults['DayNum'][x] > 103:\n",
        "      wins15Wins[i] +=1\n",
        "    if MRegularSeasonCompactResults['LTeamID'][x] == wins15Names[i] and MRegularSeasonCompactResults['Season'][x] == wins15Year[i] and MRegularSeasonCompactResults['DayNum'][x] > 103:\n",
        "      wins15Losses[i] +=1"
      ],
      "metadata": {
        "id": "xPYeFYr1hNEH"
      },
      "execution_count": 61,
      "outputs": []
    },
    {
      "cell_type": "code",
      "source": [
        "losses15Wins = []\n",
        "losses15Losses = []\n",
        "for i in range(0,len(losses15Names)):\n",
        "  losses15Wins.append(0)\n",
        "  losses15Losses.append(0)\n",
        "\n",
        "for i in range(0,len(losses15Names)):\n",
        "  for x in range(0,len(MRegularSeasonCompactResults['Season'])):\n",
        "    if MRegularSeasonCompactResults['WTeamID'][x] == losses15Names[i] and MRegularSeasonCompactResults['Season'][x] == losses15Year[i] and MRegularSeasonCompactResults['DayNum'][x] > 103:\n",
        "      losses15Wins[i] +=1\n",
        "    if MRegularSeasonCompactResults['LTeamID'][x] == losses15Names[i] and MRegularSeasonCompactResults['Season'][x] == losses15Year[i] and MRegularSeasonCompactResults['DayNum'][x] > 103:\n",
        "      losses15Losses[i] +=1"
      ],
      "metadata": {
        "id": "ZLl4fO1BhOLh"
      },
      "execution_count": 62,
      "outputs": []
    },
    {
      "cell_type": "code",
      "source": [
        "print(sum(wins15Wins)/(sum(wins15Losses)+sum(wins15Wins)))\n",
        "print(sum(losses15Wins)/(sum(losses15Losses)+sum(losses15Wins)))"
      ],
      "metadata": {
        "colab": {
          "base_uri": "https://localhost:8080/"
        },
        "id": "tos6L345hQJH",
        "outputId": "5b768431-a9b2-4c86-8135-5293d3d397e6"
      },
      "execution_count": 63,
      "outputs": [
        {
          "output_type": "stream",
          "name": "stdout",
          "text": [
            "0.8529411764705882\n",
            "0.8273170731707317\n"
          ]
        }
      ]
    },
    {
      "cell_type": "markdown",
      "source": [
        "The 15 seeds that beat a 2 seed win 85.3% of their games in the last month of the regular season. The 15 seeds that lose win 82.7% of their games in the last month of the regular season. This differrence was to see if a team that is currently hot and winning, but the change in % is so minimal it doesn't appear to have an effect."
      ],
      "metadata": {
        "id": "xnvSk89chRj0"
      }
    },
    {
      "cell_type": "code",
      "source": [
        "wins2Wins = []\n",
        "wins2Losses = []\n",
        "for i in range(0,len(wins2Names)):\n",
        "  wins2Wins.append(0)\n",
        "  wins2Losses.append(0)\n",
        "\n",
        "for i in range(0,len(wins2Names)):\n",
        "  for x in range(0,len(MRegularSeasonCompactResults['Season'])):\n",
        "    if MRegularSeasonCompactResults['WTeamID'][x] == wins2Names[i] and MRegularSeasonCompactResults['Season'][x] == wins2Year[i] and MRegularSeasonCompactResults['DayNum'][x] > 103:\n",
        "      wins2Wins[i] +=1\n",
        "    if MRegularSeasonCompactResults['LTeamID'][x] == wins2Names[i] and MRegularSeasonCompactResults['Season'][x] == wins2Year[i] and MRegularSeasonCompactResults['DayNum'][x] > 103:\n",
        "      wins2Losses[i] +=1\n",
        "\n",
        "losses2Wins = []\n",
        "losses2Losses = []\n",
        "for i in range(0,len(losses2Names)):\n",
        "  losses2Wins.append(0)\n",
        "  losses2Losses.append(0)\n",
        "\n",
        "for i in range(0,len(losses2Names)):\n",
        "  for x in range(0,len(MRegularSeasonCompactResults['Season'])):\n",
        "    if MRegularSeasonCompactResults['WTeamID'][x] == losses2Names[i] and MRegularSeasonCompactResults['Season'][x] == losses2Year[i] and MRegularSeasonCompactResults['DayNum'][x] > 103:\n",
        "      losses2Wins[i] +=1\n",
        "    if MRegularSeasonCompactResults['LTeamID'][x] == losses2Names[i] and MRegularSeasonCompactResults['Season'][x] == losses2Year[i] and MRegularSeasonCompactResults['DayNum'][x] > 103:\n",
        "      losses2Losses[i] +=1"
      ],
      "metadata": {
        "id": "EHPTyoGEhTEr"
      },
      "execution_count": 64,
      "outputs": []
    },
    {
      "cell_type": "code",
      "source": [
        "print(sum(wins2Wins)/(sum(wins2Losses)+sum(wins2Wins)))\n",
        "print(sum(losses2Wins)/(sum(losses2Losses)+sum(losses2Wins)))"
      ],
      "metadata": {
        "colab": {
          "base_uri": "https://localhost:8080/"
        },
        "id": "kK3g7Bx1hW5f",
        "outputId": "b2b224ac-2933-43b5-f453-e50773139768"
      },
      "execution_count": 65,
      "outputs": [
        {
          "output_type": "stream",
          "name": "stdout",
          "text": [
            "0.7749140893470791\n",
            "0.76\n"
          ]
        }
      ]
    },
    {
      "cell_type": "markdown",
      "source": [
        "We also find no significance when looking at the 2 seeds."
      ],
      "metadata": {
        "id": "ZAb34B27hYlf"
      }
    },
    {
      "cell_type": "markdown",
      "source": [
        "In terms of missing values, there weren't any in the datasets because each game has information about it. The only thing that would be missing would be certain categories from 1985 to 2002. There are files of compact and detailed results for data about the regular season and ncaa tournament. From 1985 to 2002, for each game there are only 8 columns of data, whereas after 2002 there are 34 columns of data. Instead of trying to fill in this data by adding means of averages for these values, I decided not to touch the data. This is because the data is already functional and there are no missing values, just less columns. It just means that whenever I wanted to look at the detailed results, I only looked at the data from 2003 to present.\n",
        "We learned a lot of things from looking at the data. One of them is the overall seeding of teams. This is different from the typical 1-16. Teams could be ranked from 1-353rd best in the nation, and using this data we were able to see how a number of teams who were above a certain ranking never won a single tournament game in the history of the tournament. \n",
        "One correlation I was hoping to see was if teams that won more games later in the regular season performed better in the tournament. Unfortunately, this prediction was false, and there was only a slight difference. More specifically, I looked at 2 and 15 seeds and the difference between the 2 seeds that won and lost this matchup was minimal, and the same went for 15 seeds.\n",
        "I also looked at how certain seeds play against each other. We were able to notice a lot of things from this. Whenever a 12 and 13 seed matchup, the 12 seed wins that matchup a majority of the time, despite there only being one ranking difference between them. Another surprising one was that 1 seeds don't perform very well against 11 seeds. \n",
        "As far as how far teams make it in the tournament, there are always a couple low ranked teams that make it far, but the vast majority are 1,2, and 3 seeds. We also noticed that no 13 seed or higher made it to the final four. So if we ever predict a 13 seed to win in the first two rounds, we would expect them to lose in the elite eight.\n",
        "When looking at regular season stats vs tournament stats, we found that the average winning and losing scores were extremely similar. I was hoping to find a difference to see if for example teams that played better defense won more games, but I didn't find this to be the case.\n",
        "I also looked at the teams that have been to the tournament the most. North Carolina, Duke, and Kansas among the leaders. If we are ever in doubt of a pick, we may choose one of these schools to advance based on the fact that going to the tournament the most could mean these programs have more experience and better coaching than their opponents, even if they have a low seed in the tournament.\n",
        "The NCAA tournament comes down to luck a lot of the time, but maybe that luck is because of factors we haven't considered. I hope to come up with a solution to this problem in phase ii to determine the winners of each game for the next tournament.\n",
        "We can see that no seed ranked above 280 has ever won a tournament game, and only 9 teams ranked above 200 have ever won a tournament game. If a team above 200 is in the tournament, it is very unlikely they will win a game. From teams 70-199, only 41 of them have won a tournament game. The rankings we are using are from the system \"BIH\" and are from day number 133 which is the last day that rankings are made.\n"
      ],
      "metadata": {
        "id": "wtZCNuXPhgC8"
      }
    }
  ]
}